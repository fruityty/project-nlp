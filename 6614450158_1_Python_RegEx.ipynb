{
  "nbformat": 4,
  "nbformat_minor": 0,
  "metadata": {
    "colab": {
      "provenance": []
    },
    "kernelspec": {
      "display_name": "Python 3",
      "name": "python3"
    },
    "language_info": {
      "name": "python"
    }
  },
  "cells": [
    {
      "cell_type": "markdown",
      "source": [
        "**Student ID:**\n",
        "\n",
        "**Student Name:**"
      ],
      "metadata": {
        "id": "c5hatsj3bd6y"
      }
    },
    {
      "cell_type": "markdown",
      "metadata": {
        "id": "4HMeD6H3-bZT"
      },
      "source": [
        "**Python RegEx**\n",
        "\n",
        "[https://www.w3schools.com/python/python_regex.asp ]\n"
      ]
    },
    {
      "cell_type": "markdown",
      "metadata": {
        "id": "fqXaGH5zLhEd"
      },
      "source": [
        "# RegEx Module\n"
      ]
    },
    {
      "cell_type": "code",
      "metadata": {
        "id": "Vwbp0VM4G-WO"
      },
      "source": [
        "import re"
      ],
      "execution_count": null,
      "outputs": []
    },
    {
      "cell_type": "markdown",
      "source": [
        "# RegEx Functions\n",
        "\n",
        "**Search** returns a match object if there is a match *anywhere* in the string\n",
        "\n",
        "**findall**\tReturns a list containing all matches\n",
        "\n",
        "**split**\tReturns a list where the string has been split at each match\n",
        "\n",
        "**sub**\tReplaces one or many matches with a string# New Section"
      ],
      "metadata": {
        "id": "OTTtX1Nse2_2"
      }
    },
    {
      "cell_type": "code",
      "source": [
        "# Letters inside square brackets []\n",
        "txt = \"Woodchuck woodchuck\"\n",
        "x = re.search(\"[wW]oodchuck\", txt)\n",
        "print(x)\n",
        "\n",
        "x = re.findall(\"[wW]oodchuck\", txt)\n",
        "print(x)\n",
        "\n",
        "x = re.split(\"c\", txt)\n",
        "print(x)\n",
        "\n",
        "x = re.sub(\"W\",\"w\", txt)\n",
        "print(x)"
      ],
      "metadata": {
        "colab": {
          "base_uri": "https://localhost:8080/"
        },
        "id": "vBsZjTon2u6Z",
        "outputId": "aa880ac3-e03c-417c-d61a-4a04f5531cf5"
      },
      "execution_count": null,
      "outputs": [
        {
          "output_type": "stream",
          "name": "stdout",
          "text": [
            "<re.Match object; span=(0, 9), match='Woodchuck'>\n",
            "['Woodchuck', 'woodchuck']\n",
            "['Wood', 'hu', 'k wood', 'hu', 'k']\n",
            "woodchuck woodchuck\n"
          ]
        }
      ]
    },
    {
      "cell_type": "code",
      "source": [
        "# Range [a-z]\n",
        "txt = \"Woodchuck\"\n",
        "x = re.search(\"[a-z]\", txt)\n",
        "print(x)"
      ],
      "metadata": {
        "colab": {
          "base_uri": "https://localhost:8080/"
        },
        "id": "GQ6TxZJK3st8",
        "outputId": "5a519902-9ef3-4f30-cb7d-1e12cc465d14"
      },
      "execution_count": null,
      "outputs": [
        {
          "output_type": "stream",
          "name": "stdout",
          "text": [
            "<re.Match object; span=(1, 2), match='o'>\n"
          ]
        }
      ]
    },
    {
      "cell_type": "code",
      "source": [
        "# Negations [^]\n",
        "txt = \"BKKThailand\"\n",
        "x = re.search(\"[^A-Z]\", txt)\n",
        "print(x)\n",
        "\n",
        "txt = \"e^o^e\"\n",
        "x = re.search(\"[^e^]\", txt)\n",
        "print(x)"
      ],
      "metadata": {
        "colab": {
          "base_uri": "https://localhost:8080/"
        },
        "id": "MSLNpXsq4k_0",
        "outputId": "dfa3ff5b-21ea-4bcb-b9ca-3319e6ae72b5"
      },
      "execution_count": null,
      "outputs": [
        {
          "output_type": "stream",
          "name": "stdout",
          "text": [
            "<re.Match object; span=(4, 5), match='h'>\n",
            "<re.Match object; span=(2, 3), match='o'>\n"
          ]
        }
      ]
    },
    {
      "cell_type": "code",
      "source": [
        "# The pipe | for disjunction\n",
        "txt = \"The woodchuck or groundhog is the largest member of the squirrel family\"\n",
        "x = re.findall(\"[Ww]oodchuck|[Gg]roundhog\", txt)\n",
        "print(x)"
      ],
      "metadata": {
        "colab": {
          "base_uri": "https://localhost:8080/"
        },
        "id": "Nw_euMgk5Y1G",
        "outputId": "bee6bc26-3de6-4b59-b4eb-8fa2b5a697fc"
      },
      "execution_count": null,
      "outputs": [
        {
          "output_type": "stream",
          "name": "stdout",
          "text": [
            "['woodchuck', 'groundhog']\n"
          ]
        }
      ]
    },
    {
      "cell_type": "code",
      "source": [
        "# ? * + .\n",
        "txt = \"color and colour mean the same thing.\"\n",
        "x = re.findall(\"colou?r\", txt)\n",
        "print(x)\n",
        "\n",
        "txt = \"h! oh! ooh!  oooh! ooooh!\"\n",
        "x = re.findall(\"oo*h\", txt)\n",
        "print(x)\n",
        "\n",
        "txt = \"oh! ooh!  oooh! ooooh!\"\n",
        "x = re.findall(\"oo*h!\", txt)\n",
        "print(x)\n",
        "\n",
        "txt = \"oh! ooh!  oooh! ooooh!\"\n",
        "x = re.findall(\"o+h!\", txt)\n",
        "print(x)\n",
        "\n",
        "txt = \"begin begun begun beg3n beg_n\"\n",
        "x = re.findall(\"beg.n\", txt)\n",
        "print(x)"
      ],
      "metadata": {
        "colab": {
          "base_uri": "https://localhost:8080/"
        },
        "id": "jwsAo2dj7kLv",
        "outputId": "d57d17d6-909e-466d-e8de-6bcd191b8667"
      },
      "execution_count": null,
      "outputs": [
        {
          "output_type": "stream",
          "name": "stdout",
          "text": [
            "['color', 'colour']\n",
            "['oh', 'ooh', 'oooh', 'ooooh']\n",
            "['oh!', 'ooh!', 'oooh!', 'ooooh!']\n",
            "['oh!', 'ooh!', 'oooh!', 'ooooh!']\n",
            "['begin', 'begun', 'begun', 'beg3n', 'beg_n']\n"
          ]
        }
      ]
    },
    {
      "cell_type": "code",
      "source": [
        "# ? * + . {m} {m, n}\n",
        "txt = \"oh! ooh!  oooh! ooooh!\"\n",
        "x = re.findall(\"o{3}h!\", txt)\n",
        "print(x)\n",
        "\n",
        "txt = \"oh! ooh!  oooh! ooooh!\"\n",
        "x = re.findall(\"o{1,3}h!\", txt)\n",
        "print(x)\n",
        "\n",
        "txt = \"oh! oh!oh!  oh!oh!oh! ooooh!ooooh!\"\n",
        "x = re.findall(\"(oh!)+\", txt)\n",
        "print(x)"
      ],
      "metadata": {
        "colab": {
          "base_uri": "https://localhost:8080/"
        },
        "id": "j81LxuYv8ooG",
        "outputId": "144a6f04-b69c-43a7-be31-afc69fa3f547"
      },
      "execution_count": null,
      "outputs": [
        {
          "output_type": "stream",
          "name": "stdout",
          "text": [
            "['oooh!', 'oooh!']\n",
            "['oh!', 'ooh!', 'oooh!', 'oooh!']\n",
            "['oh!', 'oh!', 'oh!', 'oh!', 'oh!']\n"
          ]
        }
      ]
    },
    {
      "cell_type": "code",
      "source": [
        "# Special Sequence\n",
        "# \\d any decimal digit\n",
        "txt = \"1234567890123 837429rq899 1234567890123pqpe1234567890123\"\n",
        "x = re.findall(\"\\d{13}\", txt)\n",
        "print(x)\n",
        "\n",
        "# \\w any alphanumeric character\n",
        "txt = \"1234567890123_+-@ 837429rq899 1234567890123@_pqpe1234567890123\"\n",
        "x = re.findall(\"\\w+\", txt)\n",
        "print(x)\n",
        "\n",
        "txt = \"The rain in Spain\"\n",
        "x = re.findall(\"S\\w+\", txt)\n",
        "print(x)\n",
        "\n",
        "\n",
        "txt = \"The rain in Spain 12ai33 aim mai\"\n",
        "x = re.findall(\"\\w*ai.\", txt)\n",
        "print(x)\n",
        "\n",
        "# \\s any whitespace character (space, tab)\n",
        "# Replace the first two occurrences of a white-space character with \"_\":\n",
        "txt = \"The rain in Spain\"\n",
        "x = re.sub(\"\\s\", \"_\", txt, 2)\n",
        "print(x)"
      ],
      "metadata": {
        "colab": {
          "base_uri": "https://localhost:8080/"
        },
        "id": "Ovy674E5KWOI",
        "outputId": "4a4cf67b-653e-41c7-955e-2e5e74425233"
      },
      "execution_count": null,
      "outputs": [
        {
          "output_type": "stream",
          "name": "stdout",
          "text": [
            "['1234567890123', '1234567890123', '1234567890123']\n",
            "['1234567890123_', '837429rq899', '1234567890123', '_pqpe1234567890123']\n",
            "['Spain']\n",
            "['rain', 'Spain', '12ai3', 'aim']\n",
            "The_rain_in Spain\n"
          ]
        }
      ]
    },
    {
      "cell_type": "code",
      "source": [
        "import re\n",
        "txt = \"abcb\"\n",
        "x = re.findall(r\"[a-z]*b$\", txt)\n",
        "print(x)"
      ],
      "metadata": {
        "colab": {
          "base_uri": "https://localhost:8080/"
        },
        "id": "oAuycqJjDyh2",
        "outputId": "78e11bfd-f7cf-46de-a9a9-f01e8469db6e"
      },
      "execution_count": null,
      "outputs": [
        {
          "output_type": "stream",
          "name": "stdout",
          "text": [
            "['abcb']\n"
          ]
        }
      ]
    },
    {
      "cell_type": "code",
      "source": [
        "# ^ Start string\n",
        "text = \"Hello, world! This is a test string.\"\n",
        "x = re.findall(\"^\\w+\", text)\n",
        "print(x)\n",
        "\n",
        "# $ End string\n",
        "text = \"Hello, world! This is a test string.\"\n",
        "x = re.findall(\"\\w+.$\", text)\n",
        "print(x)\n",
        "\n",
        "# ^ Start string and $ End string\n",
        "text = \"Hello world.\"\n",
        "x = re.findall(\"(\\w+\\s*)+\", text)\n",
        "print(x)"
      ],
      "metadata": {
        "colab": {
          "base_uri": "https://localhost:8080/"
        },
        "id": "jV_XNXwMM9Gl",
        "outputId": "8e07ab25-4088-4963-d562-ee3069e23463"
      },
      "execution_count": null,
      "outputs": [
        {
          "output_type": "stream",
          "name": "stdout",
          "text": [
            "['Hello']\n",
            "['string.']\n",
            "['world']\n"
          ]
        }
      ]
    },
    {
      "cell_type": "markdown",
      "metadata": {
        "id": "veRML-M6L3Z-"
      },
      "source": [
        "# Match Functions"
      ]
    },
    {
      "cell_type": "markdown",
      "metadata": {
        "id": "W2miivKnIm74"
      },
      "source": [
        "**match**\treturns a match object if there is a match at *the begining* of the string"
      ]
    },
    {
      "cell_type": "code",
      "metadata": {
        "id": "gkweDMsBRgcy",
        "colab": {
          "base_uri": "https://localhost:8080/"
        },
        "outputId": "4b485eac-905e-4d0d-ffa5-137a36352ea0"
      },
      "source": [
        "import re\n",
        "\n",
        "txt = \"babcccc\"\n",
        "x = re.search(\"(abc+)\", txt)\n",
        "print(x)\n",
        "\n",
        "\n",
        "txt = \"babcccc\"\n",
        "x = re.match(\"(abc+)\", txt)\n",
        "print(x)"
      ],
      "execution_count": null,
      "outputs": [
        {
          "output_type": "stream",
          "name": "stdout",
          "text": [
            "<re.Match object; span=(1, 7), match='abcccc'>\n",
            "None\n"
          ]
        }
      ]
    },
    {
      "cell_type": "markdown",
      "metadata": {
        "id": "iJ70Z-tWQQTz"
      },
      "source": [
        "The Match object has properties and methods used to retrieve information about the search, and the result:\n",
        "\n",
        "**.string** returns the string passed into the function\n",
        "\n",
        "**.span()** returns a tuple containing the start-, and end positions of the match.\n",
        "\n",
        "**.group()** returns the part of the string where there was a match"
      ]
    },
    {
      "cell_type": "code",
      "metadata": {
        "id": "M8PsHc-IJkJu",
        "colab": {
          "base_uri": "https://localhost:8080/"
        },
        "outputId": "098ca3df-58c1-4536-8210-411b11a21826"
      },
      "source": [
        "import re\n",
        "#Search for an upper case \"S\" character in the beginning of a word\n",
        "#The string property returns the search string\n",
        "\n",
        "txt = \"The rain in Spain\"\n",
        "x = re.search(\"S\\w+\", txt)\n",
        "\n",
        "if x:\n",
        "  print(\"YES! We have the pattern!\")\n",
        "  print(x)\n",
        "\n",
        "  print(x.string)\n",
        "  print(x.span())\n",
        "\n",
        "  print(x.group())\n",
        "  print(x.start())\n",
        "  print(x.end())\n",
        "\n",
        "else:\n",
        "  print(\"Not found\")"
      ],
      "execution_count": null,
      "outputs": [
        {
          "output_type": "stream",
          "name": "stdout",
          "text": [
            "YES! We have the pattern!\n",
            "<re.Match object; span=(12, 17), match='Spain'>\n",
            "The rain in Spain\n",
            "(12, 17)\n",
            "Spain\n",
            "12\n",
            "17\n"
          ]
        }
      ]
    },
    {
      "cell_type": "code",
      "metadata": {
        "id": "EGnfP-M_dQz9",
        "colab": {
          "base_uri": "https://localhost:8080/"
        },
        "outputId": "25d1df4d-0608-4404-fe46-737d31336aa8"
      },
      "source": [
        "import re\n",
        "\n",
        "#check valid email pattern\n",
        "pattern = '\\w+.*\\w+[@]\\w+\\.(com|net|th)'\n",
        "myemail = 'aurawani@ku.th'\n",
        "res = re.match(pattern, myemail)\n",
        "print(res)\n",
        "\n",
        "# ใช้ () เพื่อแยกส่วนของการ match\n",
        "pattern = '(\\w+.*\\w+)@(\\w+\\.(com|net|th))'\n",
        "myemail = 'aurawan.i@ku.th'\n",
        "res = re.match(pattern, myemail)\n",
        "print(res.group(1))\n",
        "print(res.group(2))\n",
        "print(res.group(3))\n",
        "\n",
        "# ใช้ ?P<GroupName> ตั้งชื่อกลุ่มเพื่อความสะดวกในการอ้างอิง\n",
        "pattern = '(?P<name>\\w+.*\\w+)@(?P<domain>\\w+\\.(com|net|th))'\n",
        "myemail = 'aurawan.i@ku.th'\n",
        "res = re.match(pattern, myemail)\n",
        "print(res.group('name'))\n",
        "print(res.group('domain'))"
      ],
      "execution_count": 1,
      "outputs": [
        {
          "output_type": "stream",
          "name": "stdout",
          "text": [
            "<re.Match object; span=(0, 14), match='aurawani@ku.th'>\n",
            "aurawan.i\n",
            "ku.th\n",
            "th\n",
            "aurawan.i\n",
            "ku.th\n"
          ]
        }
      ]
    },
    {
      "cell_type": "markdown",
      "metadata": {
        "id": "NFzUeOt2o_4j"
      },
      "source": [
        "# More Regular Expressions\n",
        "\n",
        "หมายเหตุ\n",
        "\n",
        "1. \\b หมายถึง Word Boundary => คำที่ต้องการหาจะเป็นคำที่ไม่ติดกับตัวอักษรใด เช่น\n",
        "\n",
        "\\bThe => หน้าคำว่า “The” จะต้องไม่มีตัวอักษรใด\n",
        "\n",
        "\\bThe\\b => ว่าหน้าและหลังคำว่า “The” จะต้องไม่มีตัวอักษรใด ๆ\n",
        "\n",
        "\n",
        "\n",
        "\n",
        "2. \"r\" ที่อยู่ด้านหน้า string หมายถึง string นั้นเป็น raw string คือ escape characters จะไม่ถูกแยกวิเคราะห์ เช่น\n",
        "\n",
        "\\b ไม่ได้หมายถึง backslash และ b แต่จะหมายถึง Word Boundary"
      ]
    },
    {
      "cell_type": "code",
      "metadata": {
        "id": "ytjzeoVhcZ7R",
        "colab": {
          "base_uri": "https://localhost:8080/"
        },
        "outputId": "a1876a72-22b5-4d52-d62e-c4bbac477a61"
      },
      "source": [
        "import re\n",
        "\n",
        "txt = \"the bigger they were, the bigger they will be\"\n",
        "x = re.search(r'\\bthe (.*)er they were, the \\1er they will be\\b', txt)\n",
        "print(x)\n",
        "\n",
        "txt = \"the faster they ran, the faster we ran\"\n",
        "x = re.search(r'\\bthe (.*)er they (.*), the \\1er we \\2\\b', txt)\n",
        "print(x)\n",
        "\n",
        "txt = \"some cats like some cats\"\n",
        "x = re.search(r'\\b(?:some|a few) (people|cats) like some \\1\\b', txt)\n",
        "print(x)\n",
        "print()\n",
        "\n",
        "txt = \"He says, I'm depressed much of the time.\"\n",
        "x = re.sub(r\"\\b.* I'm (depressed|sad) .*\\b\", r\"\\bI AM SORRY TO HEAR YOU ARE \\1.\\b\", txt)\n",
        "print(x)"
      ],
      "execution_count": null,
      "outputs": [
        {
          "output_type": "stream",
          "name": "stdout",
          "text": [
            "<re.Match object; span=(0, 45), match='the bigger they were, the bigger they will be'>\n",
            "<re.Match object; span=(0, 38), match='the faster they ran, the faster we ran'>\n",
            "<re.Match object; span=(0, 24), match='some cats like some cats'>\n",
            "\n",
            "\bI AM SORRY TO HEAR YOU ARE depressed.\b.\n"
          ]
        }
      ]
    },
    {
      "cell_type": "code",
      "source": [
        "print(\"Hello! Welcome to smart chatbot.\")\n",
        "text = input(\"Can I help you?: \")\n",
        "intend = \"process\"\n",
        "\n",
        "while intend != \"bye\":\n",
        "  if re.match(r\"\\b(Do you have|I want) ([A-Za-z ]+)\\b\", text):\n",
        "    res = re.match(r\"\\b(Do you have|I want) ([A-Za-z ]+)\\b\", text)\n",
        "    product = res.group(2)\n",
        "    print(f\"We have some {product}. Price is 200 baht/piece. [A01, A02, A03]\")\n",
        "    text = input(\"Please type the product number that you want: \")\n",
        "  elif re.match(r\"\\bA(\\d+)\\b\", text):\n",
        "    res = re.match(r\"\\b(A\\d+)\\b\", text)\n",
        "    item = res.group(1)\n",
        "    print(f\"You select {product} number {item}\")\n",
        "    text = input(\"How many pieces do you want? \")\n",
        "  elif re.match(r\"\\b(\\d+)\\b\", text):\n",
        "    res = re.match(r\"\\b(\\d+)\\b\", text)\n",
        "    quantity = res.group(1)\n",
        "    print(f\"You select {product} number {item} {quantity} pieces\")\n",
        "    text = input(\"Do you want anymore?\")\n",
        "  elif re.match(r\"\\b[n|N]o|[t|T]hank [you]*([A-Za-z ]+)\\b\", text):\n",
        "    intend = \"bye\"\n",
        "  else:\n",
        "    print(\"Sorry! I don't understand. Please contact to admin\")\n",
        "    intend = \"bye\"\n",
        "\n",
        "print(\"Thank you. See you again next time.\")"
      ],
      "metadata": {
        "id": "ussCGK1meoYM",
        "colab": {
          "base_uri": "https://localhost:8080/"
        },
        "outputId": "8b05e676-5c0f-42af-d15c-0340d443c1a6"
      },
      "execution_count": null,
      "outputs": [
        {
          "output_type": "stream",
          "name": "stdout",
          "text": [
            "Hello! Welcome to smart chatbot.\n",
            "Can I help you?: Do you have cat\n",
            "We have some cat. Price is 200 baht/piece. [A01, A02, A03]\n",
            "Please type the product number that you want: A04\n",
            "You select cat number A04\n",
            "How many pieces do you want? 5\n",
            "You select cat number A04 5 pieces\n",
            "Do you want anymore?no\n",
            "Thank you. See you again next time.\n"
          ]
        }
      ]
    },
    {
      "cell_type": "markdown",
      "source": [
        "1. จงเขียน regular expression ที่ match กับข้อความต่อไปนี้\n",
        "pit\n",
        "\n",
        "spot\n",
        "\n",
        "spate\n",
        "\n",
        "slap two\n",
        "\n",
        "respit\n",
        "\n",
        "แต่ไม่ match กับข้อความเหล่านี้\n",
        "pt\n",
        "\n",
        "Pot\n",
        "\n",
        "part\n",
        "\n",
        "respect\n",
        "\n",
        "populate"
      ],
      "metadata": {
        "id": "lduOZo7a55Fy"
      }
    },
    {
      "cell_type": "code",
      "source": [
        "## Your Code ##\n",
        "import re\n",
        "\n",
        "# match\n",
        "print(\"Match\")\n",
        "txt_list = ['pit', 'spot', 'spate', 'slap two', 'respit']\n",
        "# pattern = r'\\b(s.+|pit|respit)\\b'\n",
        "pattern = r'\\b(\\w*p.t\\w*)\\b'\n",
        "for text in txt_list:\n",
        "  x = re.match(pattern , text)\n",
        "  print(x)\n",
        "\n",
        "# not match\n",
        "print(\"Not match\")\n",
        "txt_list_2 = ['pt', 'Pot', 'part', 'respect', 'populate']\n",
        "for text in txt_list_2:\n",
        "  x = re.match(pattern , text)\n",
        "  print(x)\n"
      ],
      "metadata": {
        "id": "OidCHHXmggQe",
        "colab": {
          "base_uri": "https://localhost:8080/"
        },
        "outputId": "3a4f21a1-c559-4092-dae3-ae38a04d8087"
      },
      "execution_count": 48,
      "outputs": [
        {
          "output_type": "stream",
          "name": "stdout",
          "text": [
            "Match\n",
            "<re.Match object; span=(0, 3), match='pit'>\n",
            "<re.Match object; span=(0, 4), match='spot'>\n",
            "<re.Match object; span=(0, 5), match='spate'>\n",
            "<re.Match object; span=(0, 8), match='slap two'>\n",
            "<re.Match object; span=(0, 6), match='respit'>\n",
            "Not match\n",
            "None\n",
            "None\n",
            "None\n",
            "None\n",
            "None\n"
          ]
        }
      ]
    },
    {
      "cell_type": "markdown",
      "source": [
        "2. จงเขียน regular expression เพื่อตรวจสอบหมายเลขโทรศัพท์มือถือ 10 หลัก ที่ขึ้นต้นด้วย 0 และประกอบด้วย – หรือไม่ก็ได้ เช่น\n",
        "-        Valid: 0812345678, 099-876-5432, 099 876 5432\n",
        "-        Invalid: (081)2345678, 599 876 5432"
      ],
      "metadata": {
        "id": "mRhf7bqkdkrr"
      }
    },
    {
      "cell_type": "code",
      "source": [
        "## Your Code ##\n",
        "# match\n",
        "print(\"Match\")\n",
        "txt_list = ['0812345678', '099-876-5432', '099 876 5432']\n",
        "pattern = '(0\\d{9}|0\\d{2}\\D\\d{3}\\D\\d{4})'\n",
        "for text in txt_list:\n",
        "  x = re.match(pattern , text)\n",
        "  print(x)\n",
        "\n",
        "# not match\n",
        "print(\"Not match\")\n",
        "txt_list_2 = ['(081)2345678', '599 876 5432']\n",
        "for text in txt_list_2:\n",
        "  x = re.match(pattern , text)\n",
        "  print(x)"
      ],
      "metadata": {
        "id": "lGjPx32Edk7i",
        "colab": {
          "base_uri": "https://localhost:8080/"
        },
        "outputId": "5ab63945-13f9-41f9-f163-9d8c3c33fa66"
      },
      "execution_count": 40,
      "outputs": [
        {
          "output_type": "stream",
          "name": "stdout",
          "text": [
            "Match\n",
            "<re.Match object; span=(0, 10), match='0812345678'>\n",
            "<re.Match object; span=(0, 12), match='099-876-5432'>\n",
            "<re.Match object; span=(0, 12), match='099 876 5432'>\n",
            "Not match\n",
            "None\n",
            "None\n"
          ]
        }
      ]
    },
    {
      "cell_type": "markdown",
      "source": [
        "3. Implement an ELIZA-like program, using substitutions such as those described on slide 12-13."
      ],
      "metadata": {
        "id": "KXdlPNMEgjMx"
      }
    },
    {
      "cell_type": "code",
      "source": [
        "## Your Code ##\n",
        "# summary price opt.\n",
        "\n",
        "print(\"Hello! Welcome to smart chatbot.\")\n",
        "text = input(\"Can I help you?: \")\n",
        "intend = \"process\"\n",
        "\n",
        "\n",
        "def calculate_price(quantity, price_per_item):\n",
        "    return int(quantity) * price_per_item\n",
        "\n",
        "price_per_item = 200\n",
        "total_price = 0\n",
        "\n",
        "while intend != \"bye\":\n",
        "  if re.match(r\"\\b(Do you have|I want) ([A-Za-z ]+)\\b\", text):\n",
        "    res = re.match(r\"\\b(Do you have|I want) ([A-Za-z ]+)\\b\", text)\n",
        "    product = res.group(2)\n",
        "    print(f\"We have some {product}. Price is {price_per_item} baht/piece. [A01, A02, A03]\")\n",
        "    text = input(\"Please type the product number that you want: \")\n",
        "  elif re.match(r\"\\bA(\\d+)\\b\", text):\n",
        "    res = re.match(r\"\\b(A\\d+)\\b\", text)\n",
        "    item = res.group(1)\n",
        "    print(f\"You select {product} number {item}\")\n",
        "    text = input(\"How many pieces do you want? \")\n",
        "  elif re.match(r\"\\b(\\d+)\\b\", text):\n",
        "    res = re.match(r\"\\b(\\d+)\\b\", text)\n",
        "    quantity = res.group(1)\n",
        "    item_price = calculate_price(quantity, price_per_item)\n",
        "    total_price += item_price\n",
        "    print(f\"You select {product} number {item} {quantity} pieces\")\n",
        "    print(f\"Your total price {total_price} baht\")\n",
        "    text = input(\"Do you want anymore?\")\n",
        "  elif re.match(r\"\\b[n|N]o|[t|T]hank [you]*([A-Za-z ]+)\\b\", text):\n",
        "    intend = \"bye\"\n",
        "  else:\n",
        "    print(\"Sorry! I don't understand. Please contact to admin\")\n",
        "    intend = \"bye\"\n",
        "\n",
        "print(f\"Thank you. Your total price is {total_price} baht. See you again next time!\")"
      ],
      "metadata": {
        "id": "xutvyh6Eg0e3",
        "colab": {
          "base_uri": "https://localhost:8080/"
        },
        "outputId": "079adb1a-d605-4e93-ba5b-587165fe30f1"
      },
      "execution_count": 53,
      "outputs": [
        {
          "output_type": "stream",
          "name": "stdout",
          "text": [
            "Hello! Welcome to smart chatbot.\n",
            "Can I help you?: I want ham\n",
            "We have some ham. Price is 200 baht/piece. [A01, A02, A03]\n",
            "Please type the product number that you want: A01\n",
            "You select ham number A01\n",
            "How many pieces do you want? 5\n",
            "You select ham number A01 5 pieces\n",
            "Your total price 1000 baht\n",
            "Do you want anymore?I want banana\n",
            "We have some banana. Price is 200 baht/piece. [A01, A02, A03]\n",
            "Please type the product number that you want: A03\n",
            "You select banana number A03\n",
            "How many pieces do you want? 3\n",
            "You select banana number A03 3 pieces\n",
            "Your total price 1600 baht\n",
            "Do you want anymore?No\n",
            "Thank you. Your total price is 1600 baht. See you again next time!\n"
          ]
        }
      ]
    }
  ]
}