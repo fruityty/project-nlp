{
  "nbformat": 4,
  "nbformat_minor": 0,
  "metadata": {
    "colab": {
      "provenance": []
    },
    "kernelspec": {
      "name": "python3",
      "display_name": "Python 3"
    },
    "language_info": {
      "name": "python"
    }
  },
  "cells": [
    {
      "cell_type": "markdown",
      "source": [
        "Assignment2 Lexical Analysis\n",
        "นายดนุภัทร ลิมาภิรักษ์ 6614450158"
      ],
      "metadata": {
        "id": "Bh1zTM8oab9R"
      }
    },
    {
      "cell_type": "code",
      "source": [
        "!pip install pythainlp"
      ],
      "metadata": {
        "colab": {
          "base_uri": "https://localhost:8080/"
        },
        "id": "W9IaZE4A76yu",
        "outputId": "67539aab-da43-457a-ac8f-c15e5682d834"
      },
      "execution_count": null,
      "outputs": [
        {
          "output_type": "stream",
          "name": "stdout",
          "text": [
            "Requirement already satisfied: pythainlp in /usr/local/lib/python3.10/dist-packages (5.0.4)\n",
            "Requirement already satisfied: requests>=2.22.0 in /usr/local/lib/python3.10/dist-packages (from pythainlp) (2.32.3)\n",
            "Requirement already satisfied: charset-normalizer<4,>=2 in /usr/local/lib/python3.10/dist-packages (from requests>=2.22.0->pythainlp) (3.4.0)\n",
            "Requirement already satisfied: idna<4,>=2.5 in /usr/local/lib/python3.10/dist-packages (from requests>=2.22.0->pythainlp) (3.10)\n",
            "Requirement already satisfied: urllib3<3,>=1.21.1 in /usr/local/lib/python3.10/dist-packages (from requests>=2.22.0->pythainlp) (2.2.3)\n",
            "Requirement already satisfied: certifi>=2017.4.17 in /usr/local/lib/python3.10/dist-packages (from requests>=2.22.0->pythainlp) (2024.8.30)\n"
          ]
        }
      ]
    },
    {
      "cell_type": "code",
      "source": [
        "from pythainlp.tokenize import sent_tokenize\n",
        "\n",
        "sentence_1 = \"ฉันไปประชุมเมื่อวันที่ 11 มีนาคม\"\n",
        "\n",
        "print(sent_tokenize(sentence_1, engine=\"whitespace\"))\n",
        "# output: ['ฉันไปประชุมเมื่อวันที่', '11', 'มีนาคม']"
      ],
      "metadata": {
        "colab": {
          "base_uri": "https://localhost:8080/"
        },
        "id": "bFudYEWn752A",
        "outputId": "4c272fca-c1eb-4d56-b92d-d3538d87d7e4"
      },
      "execution_count": null,
      "outputs": [
        {
          "output_type": "stream",
          "name": "stdout",
          "text": [
            "['ฉันไปประชุมเมื่อวันที่', '11', 'มีนาคม']\n"
          ]
        }
      ]
    },
    {
      "cell_type": "code",
      "source": [
        "article_1 = \"นายเสริมศักดิ์ พงษ์พานิช รัฐมนตรีว่าการกระทรวงการท่องเที่ยวและกีฬา กล่าวว่า กระทรวงการท่องเที่ยวและกีฬามี \\\n",
        "มาตรการกระตุ้นตลาดต่างประเทศ ด้วยการส่งเสริมภาพลักษณ์เชิงบวกเพื่อกระตุ้นให้เกิดการเดินทางของนักท่องเที่ยว \\\n",
        "ต่างชาติมายังประเทศไทย จึงได้ร่วมมือกับ POP MART จัดกิจกรรม Welcome Ceremony of LABUBU เตรียมเฉลิม \\\n",
        "ฉลองความสัมพันธ์ไทยจีนครบ 50 ปี ภายใต้โครงการ “ลาบูบู้เที่ยวไทย” ต้อนรับมาสคอตลาบูบู้จากกรุงปักกิ่ง สาธารณรัฐ \\\n",
        "ประชาชนจีนสู่ท่าอากาศยานสุวรรณภูมิ ประเทศไทย เพื่อจัดทำคลิปวิดีโอประชาสัมพันธ์เที่ยวไทยตามรอยลาบูบู้\""
      ],
      "metadata": {
        "id": "4otcMuTjAYX0"
      },
      "execution_count": null,
      "outputs": []
    },
    {
      "cell_type": "code",
      "source": [
        "print(sent_tokenize(article_1, engine=\"whitespace\"))"
      ],
      "metadata": {
        "colab": {
          "base_uri": "https://localhost:8080/"
        },
        "id": "MfxVsMSe8rgz",
        "outputId": "a2b5afe1-a0ed-4850-a6c0-e87aa2b2de8c"
      },
      "execution_count": null,
      "outputs": [
        {
          "output_type": "stream",
          "name": "stdout",
          "text": [
            "['นายเสริมศักดิ์', 'พงษ์พานิช', 'รัฐมนตรีว่าการกระทรวงการท่องเที่ยวและกีฬา', 'กล่าวว่า', 'กระทรวงการท่องเที่ยวและกีฬามี', 'มาตรการกระตุ้นตลาดต่างประเทศ', 'ด้วยการส่งเสริมภาพลักษณ์เชิงบวกเพื่อกระตุ้นให้เกิดการเดินทางของนักท่องเที่ยว', 'ต่างชาติมายังประเทศไทย', 'จึงได้ร่วมมือกับ', 'POP', 'MART', 'จัดกิจกรรม', 'Welcome', 'Ceremony', 'of', 'LABUBU', 'เตรียมเฉลิม', 'ฉลองความสัมพันธ์ไทยจีนครบ', '50', 'ปี', 'ภายใต้โครงการ', '“ลาบูบู้เที่ยวไทย”', 'ต้อนรับมาสคอตลาบูบู้จากกรุงปักกิ่ง', 'สาธารณรัฐ', 'ประชาชนจีนสู่ท่าอากาศยานสุวรรณภูมิ', 'ประเทศไทย', 'เพื่อจัดทำคลิปวิดีโอประชาสัมพันธ์เที่ยวไทยตามรอยลาบูบู้']\n"
          ]
        }
      ]
    },
    {
      "cell_type": "code",
      "source": [
        "print(sent_tokenize(article_1, engine=\"whitespace+newline\"))"
      ],
      "metadata": {
        "colab": {
          "base_uri": "https://localhost:8080/"
        },
        "id": "C8z4CITXA38C",
        "outputId": "691701f1-c6c2-4c1f-9dbd-7afde9974dfa"
      },
      "execution_count": null,
      "outputs": [
        {
          "output_type": "stream",
          "name": "stdout",
          "text": [
            "['นายเสริมศักดิ์', 'พงษ์พานิช', 'รัฐมนตรีว่าการกระทรวงการท่องเที่ยวและกีฬา', 'กล่าวว่า', 'กระทรวงการท่องเที่ยวและกีฬามี', 'มาตรการกระตุ้นตลาดต่างประเทศ', 'ด้วยการส่งเสริมภาพลักษณ์เชิงบวกเพื่อกระตุ้นให้เกิดการเดินทางของนักท่องเที่ยว', 'ต่างชาติมายังประเทศไทย', 'จึงได้ร่วมมือกับ', 'POP', 'MART', 'จัดกิจกรรม', 'Welcome', 'Ceremony', 'of', 'LABUBU', 'เตรียมเฉลิม', 'ฉลองความสัมพันธ์ไทยจีนครบ', '50', 'ปี', 'ภายใต้โครงการ', '“ลาบูบู้เที่ยวไทย”', 'ต้อนรับมาสคอตลาบูบู้จากกรุงปักกิ่ง', 'สาธารณรัฐ', 'ประชาชนจีนสู่ท่าอากาศยานสุวรรณภูมิ', 'ประเทศไทย', 'เพื่อจัดทำคลิปวิดีโอประชาสัมพันธ์เที่ยวไทยตามรอยลาบูบู้']\n"
          ]
        }
      ]
    },
    {
      "cell_type": "code",
      "source": [
        "# Options for engine\n",
        "# attacut - wrapper for AttaCut., learning-based approach\n",
        "\n",
        "# deepcut - wrapper for DeepCut, learning-based approach\n",
        "\n",
        "# icu - wrapper for a word tokenizer in PyICU., from ICU (International Components for Unicode), dictionary-based\n",
        "\n",
        "# longest - dictionary-based, longest matching\n",
        "\n",
        "# mm - “multi-cut”, dictionary-based, maximum matching\n",
        "\n",
        "# nercut - dictionary-based, maximal matching, constrained by Thai Character Cluster (TCC) boundaries, combining tokens that are parts of the same named-entity\n",
        "\n",
        "# newmm (default) - “new multi-cut”, dictionary-based, maximum matching, constrained by Thai Character Cluster (TCC) boundaries with improved TCC rules that are used in newmm.\n",
        "\n",
        "# newmm-safe - newmm, with a mechanism to avoid long processing time for text with continuously ambiguous breaking points\n",
        "\n",
        "# nlpo3 - wrapper for a word tokenizer in nlpO3., adaptation of newmm in Rust (2.5x faster)\n",
        "\n",
        "# oskut - wrapper for OSKut., Out-of-domain StacKed cut for Word Segmentation\n",
        "\n",
        "# sefr_cut - wrapper for SEFR CUT., Stacked Ensemble Filter and Refine for Word Segmentation\n",
        "\n",
        "# tltk - wrapper for TLTK.,\n",
        "\n",
        "# maximum collocation approach\n",
        "\n",
        "# Note\n",
        "# The custom_dict parameter only works for deepcut, longest, newmm, and newmm-safe engines."
      ],
      "metadata": {
        "id": "fwACCYmtJKXa"
      },
      "execution_count": null,
      "outputs": []
    },
    {
      "cell_type": "code",
      "source": [
        "!pip install deepcut\n",
        "!pip install attacut\n",
        "!pip install nlpo3\n",
        "!pip install oskut\n",
        "!pip install sefr_cut\n",
        "!pip install tltk"
      ],
      "metadata": {
        "colab": {
          "base_uri": "https://localhost:8080/"
        },
        "id": "OB8yvEc1kUgW",
        "outputId": "2a5ad0b4-a28d-4cf8-ef7e-f9035ac5a8ab"
      },
      "execution_count": null,
      "outputs": [
        {
          "output_type": "stream",
          "name": "stdout",
          "text": [
            "Requirement already satisfied: deepcut in /usr/local/lib/python3.10/dist-packages (0.7.0.0)\n",
            "Requirement already satisfied: tensorflow>=2.0.0 in /usr/local/lib/python3.10/dist-packages (from deepcut) (2.17.1)\n",
            "Requirement already satisfied: pandas in /usr/local/lib/python3.10/dist-packages (from deepcut) (2.2.2)\n",
            "Requirement already satisfied: scipy in /usr/local/lib/python3.10/dist-packages (from deepcut) (1.13.1)\n",
            "Requirement already satisfied: numpy in /usr/local/lib/python3.10/dist-packages (from deepcut) (1.26.4)\n",
            "Requirement already satisfied: scikit-learn in /usr/local/lib/python3.10/dist-packages (from deepcut) (1.5.2)\n",
            "Requirement already satisfied: h5py in /usr/local/lib/python3.10/dist-packages (from deepcut) (3.12.1)\n",
            "Requirement already satisfied: absl-py>=1.0.0 in /usr/local/lib/python3.10/dist-packages (from tensorflow>=2.0.0->deepcut) (1.4.0)\n",
            "Requirement already satisfied: astunparse>=1.6.0 in /usr/local/lib/python3.10/dist-packages (from tensorflow>=2.0.0->deepcut) (1.6.3)\n",
            "Requirement already satisfied: flatbuffers>=24.3.25 in /usr/local/lib/python3.10/dist-packages (from tensorflow>=2.0.0->deepcut) (24.3.25)\n",
            "Requirement already satisfied: gast!=0.5.0,!=0.5.1,!=0.5.2,>=0.2.1 in /usr/local/lib/python3.10/dist-packages (from tensorflow>=2.0.0->deepcut) (0.6.0)\n",
            "Requirement already satisfied: google-pasta>=0.1.1 in /usr/local/lib/python3.10/dist-packages (from tensorflow>=2.0.0->deepcut) (0.2.0)\n",
            "Requirement already satisfied: libclang>=13.0.0 in /usr/local/lib/python3.10/dist-packages (from tensorflow>=2.0.0->deepcut) (18.1.1)\n",
            "Requirement already satisfied: ml-dtypes<0.5.0,>=0.3.1 in /usr/local/lib/python3.10/dist-packages (from tensorflow>=2.0.0->deepcut) (0.4.1)\n",
            "Requirement already satisfied: opt-einsum>=2.3.2 in /usr/local/lib/python3.10/dist-packages (from tensorflow>=2.0.0->deepcut) (3.4.0)\n",
            "Requirement already satisfied: packaging in /usr/local/lib/python3.10/dist-packages (from tensorflow>=2.0.0->deepcut) (24.2)\n",
            "Requirement already satisfied: protobuf!=4.21.0,!=4.21.1,!=4.21.2,!=4.21.3,!=4.21.4,!=4.21.5,<5.0.0dev,>=3.20.3 in /usr/local/lib/python3.10/dist-packages (from tensorflow>=2.0.0->deepcut) (4.25.5)\n",
            "Requirement already satisfied: requests<3,>=2.21.0 in /usr/local/lib/python3.10/dist-packages (from tensorflow>=2.0.0->deepcut) (2.32.3)\n",
            "Requirement already satisfied: setuptools in /usr/local/lib/python3.10/dist-packages (from tensorflow>=2.0.0->deepcut) (75.1.0)\n",
            "Requirement already satisfied: six>=1.12.0 in /usr/local/lib/python3.10/dist-packages (from tensorflow>=2.0.0->deepcut) (1.16.0)\n",
            "Requirement already satisfied: termcolor>=1.1.0 in /usr/local/lib/python3.10/dist-packages (from tensorflow>=2.0.0->deepcut) (2.5.0)\n",
            "Requirement already satisfied: typing-extensions>=3.6.6 in /usr/local/lib/python3.10/dist-packages (from tensorflow>=2.0.0->deepcut) (4.12.2)\n",
            "Requirement already satisfied: wrapt>=1.11.0 in /usr/local/lib/python3.10/dist-packages (from tensorflow>=2.0.0->deepcut) (1.17.0)\n",
            "Requirement already satisfied: grpcio<2.0,>=1.24.3 in /usr/local/lib/python3.10/dist-packages (from tensorflow>=2.0.0->deepcut) (1.68.1)\n",
            "Requirement already satisfied: tensorboard<2.18,>=2.17 in /usr/local/lib/python3.10/dist-packages (from tensorflow>=2.0.0->deepcut) (2.17.1)\n",
            "Requirement already satisfied: keras>=3.2.0 in /usr/local/lib/python3.10/dist-packages (from tensorflow>=2.0.0->deepcut) (3.5.0)\n",
            "Requirement already satisfied: tensorflow-io-gcs-filesystem>=0.23.1 in /usr/local/lib/python3.10/dist-packages (from tensorflow>=2.0.0->deepcut) (0.37.1)\n",
            "Requirement already satisfied: python-dateutil>=2.8.2 in /usr/local/lib/python3.10/dist-packages (from pandas->deepcut) (2.8.2)\n",
            "Requirement already satisfied: pytz>=2020.1 in /usr/local/lib/python3.10/dist-packages (from pandas->deepcut) (2024.2)\n",
            "Requirement already satisfied: tzdata>=2022.7 in /usr/local/lib/python3.10/dist-packages (from pandas->deepcut) (2024.2)\n",
            "Requirement already satisfied: joblib>=1.2.0 in /usr/local/lib/python3.10/dist-packages (from scikit-learn->deepcut) (1.4.2)\n",
            "Requirement already satisfied: threadpoolctl>=3.1.0 in /usr/local/lib/python3.10/dist-packages (from scikit-learn->deepcut) (3.5.0)\n",
            "Requirement already satisfied: wheel<1.0,>=0.23.0 in /usr/local/lib/python3.10/dist-packages (from astunparse>=1.6.0->tensorflow>=2.0.0->deepcut) (0.45.1)\n",
            "Requirement already satisfied: rich in /usr/local/lib/python3.10/dist-packages (from keras>=3.2.0->tensorflow>=2.0.0->deepcut) (13.9.4)\n",
            "Requirement already satisfied: namex in /usr/local/lib/python3.10/dist-packages (from keras>=3.2.0->tensorflow>=2.0.0->deepcut) (0.0.8)\n",
            "Requirement already satisfied: optree in /usr/local/lib/python3.10/dist-packages (from keras>=3.2.0->tensorflow>=2.0.0->deepcut) (0.13.1)\n",
            "Requirement already satisfied: charset-normalizer<4,>=2 in /usr/local/lib/python3.10/dist-packages (from requests<3,>=2.21.0->tensorflow>=2.0.0->deepcut) (3.4.0)\n",
            "Requirement already satisfied: idna<4,>=2.5 in /usr/local/lib/python3.10/dist-packages (from requests<3,>=2.21.0->tensorflow>=2.0.0->deepcut) (3.10)\n",
            "Requirement already satisfied: urllib3<3,>=1.21.1 in /usr/local/lib/python3.10/dist-packages (from requests<3,>=2.21.0->tensorflow>=2.0.0->deepcut) (2.2.3)\n",
            "Requirement already satisfied: certifi>=2017.4.17 in /usr/local/lib/python3.10/dist-packages (from requests<3,>=2.21.0->tensorflow>=2.0.0->deepcut) (2024.8.30)\n",
            "Requirement already satisfied: markdown>=2.6.8 in /usr/local/lib/python3.10/dist-packages (from tensorboard<2.18,>=2.17->tensorflow>=2.0.0->deepcut) (3.7)\n",
            "Requirement already satisfied: tensorboard-data-server<0.8.0,>=0.7.0 in /usr/local/lib/python3.10/dist-packages (from tensorboard<2.18,>=2.17->tensorflow>=2.0.0->deepcut) (0.7.2)\n",
            "Requirement already satisfied: werkzeug>=1.0.1 in /usr/local/lib/python3.10/dist-packages (from tensorboard<2.18,>=2.17->tensorflow>=2.0.0->deepcut) (3.1.3)\n",
            "Requirement already satisfied: MarkupSafe>=2.1.1 in /usr/local/lib/python3.10/dist-packages (from werkzeug>=1.0.1->tensorboard<2.18,>=2.17->tensorflow>=2.0.0->deepcut) (3.0.2)\n",
            "Requirement already satisfied: markdown-it-py>=2.2.0 in /usr/local/lib/python3.10/dist-packages (from rich->keras>=3.2.0->tensorflow>=2.0.0->deepcut) (3.0.0)\n",
            "Requirement already satisfied: pygments<3.0.0,>=2.13.0 in /usr/local/lib/python3.10/dist-packages (from rich->keras>=3.2.0->tensorflow>=2.0.0->deepcut) (2.18.0)\n",
            "Requirement already satisfied: mdurl~=0.1 in /usr/local/lib/python3.10/dist-packages (from markdown-it-py>=2.2.0->rich->keras>=3.2.0->tensorflow>=2.0.0->deepcut) (0.1.2)\n",
            "Requirement already satisfied: attacut in /usr/local/lib/python3.10/dist-packages (1.0.6)\n",
            "Requirement already satisfied: docopt>=0.6.2 in /usr/local/lib/python3.10/dist-packages (from attacut) (0.6.2)\n",
            "Requirement already satisfied: fire>=0.1.3 in /usr/local/lib/python3.10/dist-packages (from attacut) (0.7.0)\n",
            "Requirement already satisfied: nptyping>=0.2.0 in /usr/local/lib/python3.10/dist-packages (from attacut) (2.5.0)\n",
            "Requirement already satisfied: numpy>=1.17.0 in /usr/local/lib/python3.10/dist-packages (from attacut) (1.26.4)\n",
            "Requirement already satisfied: pyyaml>=5.1.2 in /usr/local/lib/python3.10/dist-packages (from attacut) (6.0.2)\n",
            "Requirement already satisfied: six>=1.12.0 in /usr/local/lib/python3.10/dist-packages (from attacut) (1.16.0)\n",
            "Requirement already satisfied: ssg>=0.0.4 in /usr/local/lib/python3.10/dist-packages (from attacut) (0.0.8)\n",
            "Requirement already satisfied: torch>=1.2.0 in /usr/local/lib/python3.10/dist-packages (from attacut) (2.5.1+cu121)\n",
            "Requirement already satisfied: termcolor in /usr/local/lib/python3.10/dist-packages (from fire>=0.1.3->attacut) (2.5.0)\n",
            "Requirement already satisfied: python-crfsuite>=0.9.6 in /usr/local/lib/python3.10/dist-packages (from ssg>=0.0.4->attacut) (0.9.11)\n",
            "Requirement already satisfied: tqdm>=4.32.2 in /usr/local/lib/python3.10/dist-packages (from ssg>=0.0.4->attacut) (4.66.6)\n",
            "Requirement already satisfied: filelock in /usr/local/lib/python3.10/dist-packages (from torch>=1.2.0->attacut) (3.16.1)\n",
            "Requirement already satisfied: typing-extensions>=4.8.0 in /usr/local/lib/python3.10/dist-packages (from torch>=1.2.0->attacut) (4.12.2)\n",
            "Requirement already satisfied: networkx in /usr/local/lib/python3.10/dist-packages (from torch>=1.2.0->attacut) (3.4.2)\n",
            "Requirement already satisfied: jinja2 in /usr/local/lib/python3.10/dist-packages (from torch>=1.2.0->attacut) (3.1.4)\n",
            "Requirement already satisfied: fsspec in /usr/local/lib/python3.10/dist-packages (from torch>=1.2.0->attacut) (2024.10.0)\n",
            "Requirement already satisfied: sympy==1.13.1 in /usr/local/lib/python3.10/dist-packages (from torch>=1.2.0->attacut) (1.13.1)\n",
            "Requirement already satisfied: mpmath<1.4,>=1.1.0 in /usr/local/lib/python3.10/dist-packages (from sympy==1.13.1->torch>=1.2.0->attacut) (1.3.0)\n",
            "Requirement already satisfied: MarkupSafe>=2.0 in /usr/local/lib/python3.10/dist-packages (from jinja2->torch>=1.2.0->attacut) (3.0.2)\n",
            "Requirement already satisfied: nlpo3 in /usr/local/lib/python3.10/dist-packages (1.3.1)\n",
            "Requirement already satisfied: oskut in /usr/local/lib/python3.10/dist-packages (1.3)\n",
            "Requirement already satisfied: tensorflow>=2.0.0 in /usr/local/lib/python3.10/dist-packages (from oskut) (2.17.1)\n",
            "Requirement already satisfied: pandas in /usr/local/lib/python3.10/dist-packages (from oskut) (2.2.2)\n",
            "Requirement already satisfied: scipy in /usr/local/lib/python3.10/dist-packages (from oskut) (1.13.1)\n",
            "Requirement already satisfied: numpy in /usr/local/lib/python3.10/dist-packages (from oskut) (1.26.4)\n",
            "Requirement already satisfied: scikit-learn in /usr/local/lib/python3.10/dist-packages (from oskut) (1.5.2)\n",
            "Requirement already satisfied: pyahocorasick<=1.4.0 in /usr/local/lib/python3.10/dist-packages (from oskut) (1.4.0)\n",
            "Requirement already satisfied: absl-py>=1.0.0 in /usr/local/lib/python3.10/dist-packages (from tensorflow>=2.0.0->oskut) (1.4.0)\n",
            "Requirement already satisfied: astunparse>=1.6.0 in /usr/local/lib/python3.10/dist-packages (from tensorflow>=2.0.0->oskut) (1.6.3)\n",
            "Requirement already satisfied: flatbuffers>=24.3.25 in /usr/local/lib/python3.10/dist-packages (from tensorflow>=2.0.0->oskut) (24.3.25)\n",
            "Requirement already satisfied: gast!=0.5.0,!=0.5.1,!=0.5.2,>=0.2.1 in /usr/local/lib/python3.10/dist-packages (from tensorflow>=2.0.0->oskut) (0.6.0)\n",
            "Requirement already satisfied: google-pasta>=0.1.1 in /usr/local/lib/python3.10/dist-packages (from tensorflow>=2.0.0->oskut) (0.2.0)\n",
            "Requirement already satisfied: h5py>=3.10.0 in /usr/local/lib/python3.10/dist-packages (from tensorflow>=2.0.0->oskut) (3.12.1)\n",
            "Requirement already satisfied: libclang>=13.0.0 in /usr/local/lib/python3.10/dist-packages (from tensorflow>=2.0.0->oskut) (18.1.1)\n",
            "Requirement already satisfied: ml-dtypes<0.5.0,>=0.3.1 in /usr/local/lib/python3.10/dist-packages (from tensorflow>=2.0.0->oskut) (0.4.1)\n",
            "Requirement already satisfied: opt-einsum>=2.3.2 in /usr/local/lib/python3.10/dist-packages (from tensorflow>=2.0.0->oskut) (3.4.0)\n",
            "Requirement already satisfied: packaging in /usr/local/lib/python3.10/dist-packages (from tensorflow>=2.0.0->oskut) (24.2)\n",
            "Requirement already satisfied: protobuf!=4.21.0,!=4.21.1,!=4.21.2,!=4.21.3,!=4.21.4,!=4.21.5,<5.0.0dev,>=3.20.3 in /usr/local/lib/python3.10/dist-packages (from tensorflow>=2.0.0->oskut) (4.25.5)\n",
            "Requirement already satisfied: requests<3,>=2.21.0 in /usr/local/lib/python3.10/dist-packages (from tensorflow>=2.0.0->oskut) (2.32.3)\n",
            "Requirement already satisfied: setuptools in /usr/local/lib/python3.10/dist-packages (from tensorflow>=2.0.0->oskut) (75.1.0)\n",
            "Requirement already satisfied: six>=1.12.0 in /usr/local/lib/python3.10/dist-packages (from tensorflow>=2.0.0->oskut) (1.16.0)\n",
            "Requirement already satisfied: termcolor>=1.1.0 in /usr/local/lib/python3.10/dist-packages (from tensorflow>=2.0.0->oskut) (2.5.0)\n",
            "Requirement already satisfied: typing-extensions>=3.6.6 in /usr/local/lib/python3.10/dist-packages (from tensorflow>=2.0.0->oskut) (4.12.2)\n",
            "Requirement already satisfied: wrapt>=1.11.0 in /usr/local/lib/python3.10/dist-packages (from tensorflow>=2.0.0->oskut) (1.17.0)\n",
            "Requirement already satisfied: grpcio<2.0,>=1.24.3 in /usr/local/lib/python3.10/dist-packages (from tensorflow>=2.0.0->oskut) (1.68.1)\n",
            "Requirement already satisfied: tensorboard<2.18,>=2.17 in /usr/local/lib/python3.10/dist-packages (from tensorflow>=2.0.0->oskut) (2.17.1)\n",
            "Requirement already satisfied: keras>=3.2.0 in /usr/local/lib/python3.10/dist-packages (from tensorflow>=2.0.0->oskut) (3.5.0)\n",
            "Requirement already satisfied: tensorflow-io-gcs-filesystem>=0.23.1 in /usr/local/lib/python3.10/dist-packages (from tensorflow>=2.0.0->oskut) (0.37.1)\n",
            "Requirement already satisfied: python-dateutil>=2.8.2 in /usr/local/lib/python3.10/dist-packages (from pandas->oskut) (2.8.2)\n",
            "Requirement already satisfied: pytz>=2020.1 in /usr/local/lib/python3.10/dist-packages (from pandas->oskut) (2024.2)\n",
            "Requirement already satisfied: tzdata>=2022.7 in /usr/local/lib/python3.10/dist-packages (from pandas->oskut) (2024.2)\n",
            "Requirement already satisfied: joblib>=1.2.0 in /usr/local/lib/python3.10/dist-packages (from scikit-learn->oskut) (1.4.2)\n",
            "Requirement already satisfied: threadpoolctl>=3.1.0 in /usr/local/lib/python3.10/dist-packages (from scikit-learn->oskut) (3.5.0)\n",
            "Requirement already satisfied: wheel<1.0,>=0.23.0 in /usr/local/lib/python3.10/dist-packages (from astunparse>=1.6.0->tensorflow>=2.0.0->oskut) (0.45.1)\n",
            "Requirement already satisfied: rich in /usr/local/lib/python3.10/dist-packages (from keras>=3.2.0->tensorflow>=2.0.0->oskut) (13.9.4)\n",
            "Requirement already satisfied: namex in /usr/local/lib/python3.10/dist-packages (from keras>=3.2.0->tensorflow>=2.0.0->oskut) (0.0.8)\n",
            "Requirement already satisfied: optree in /usr/local/lib/python3.10/dist-packages (from keras>=3.2.0->tensorflow>=2.0.0->oskut) (0.13.1)\n",
            "Requirement already satisfied: charset-normalizer<4,>=2 in /usr/local/lib/python3.10/dist-packages (from requests<3,>=2.21.0->tensorflow>=2.0.0->oskut) (3.4.0)\n",
            "Requirement already satisfied: idna<4,>=2.5 in /usr/local/lib/python3.10/dist-packages (from requests<3,>=2.21.0->tensorflow>=2.0.0->oskut) (3.10)\n",
            "Requirement already satisfied: urllib3<3,>=1.21.1 in /usr/local/lib/python3.10/dist-packages (from requests<3,>=2.21.0->tensorflow>=2.0.0->oskut) (2.2.3)\n",
            "Requirement already satisfied: certifi>=2017.4.17 in /usr/local/lib/python3.10/dist-packages (from requests<3,>=2.21.0->tensorflow>=2.0.0->oskut) (2024.8.30)\n",
            "Requirement already satisfied: markdown>=2.6.8 in /usr/local/lib/python3.10/dist-packages (from tensorboard<2.18,>=2.17->tensorflow>=2.0.0->oskut) (3.7)\n",
            "Requirement already satisfied: tensorboard-data-server<0.8.0,>=0.7.0 in /usr/local/lib/python3.10/dist-packages (from tensorboard<2.18,>=2.17->tensorflow>=2.0.0->oskut) (0.7.2)\n",
            "Requirement already satisfied: werkzeug>=1.0.1 in /usr/local/lib/python3.10/dist-packages (from tensorboard<2.18,>=2.17->tensorflow>=2.0.0->oskut) (3.1.3)\n",
            "Requirement already satisfied: MarkupSafe>=2.1.1 in /usr/local/lib/python3.10/dist-packages (from werkzeug>=1.0.1->tensorboard<2.18,>=2.17->tensorflow>=2.0.0->oskut) (3.0.2)\n",
            "Requirement already satisfied: markdown-it-py>=2.2.0 in /usr/local/lib/python3.10/dist-packages (from rich->keras>=3.2.0->tensorflow>=2.0.0->oskut) (3.0.0)\n",
            "Requirement already satisfied: pygments<3.0.0,>=2.13.0 in /usr/local/lib/python3.10/dist-packages (from rich->keras>=3.2.0->tensorflow>=2.0.0->oskut) (2.18.0)\n",
            "Requirement already satisfied: mdurl~=0.1 in /usr/local/lib/python3.10/dist-packages (from markdown-it-py>=2.2.0->rich->keras>=3.2.0->tensorflow>=2.0.0->oskut) (0.1.2)\n",
            "Requirement already satisfied: sefr_cut in /usr/local/lib/python3.10/dist-packages (1.1)\n",
            "Requirement already satisfied: tensorflow>=2.0.0 in /usr/local/lib/python3.10/dist-packages (from sefr_cut) (2.17.1)\n",
            "Requirement already satisfied: pandas in /usr/local/lib/python3.10/dist-packages (from sefr_cut) (2.2.2)\n",
            "Requirement already satisfied: scipy in /usr/local/lib/python3.10/dist-packages (from sefr_cut) (1.13.1)\n",
            "Requirement already satisfied: numpy in /usr/local/lib/python3.10/dist-packages (from sefr_cut) (1.26.4)\n",
            "Requirement already satisfied: scikit-learn in /usr/local/lib/python3.10/dist-packages (from sefr_cut) (1.5.2)\n",
            "Requirement already satisfied: python-crfsuite in /usr/local/lib/python3.10/dist-packages (from sefr_cut) (0.9.11)\n",
            "Requirement already satisfied: pyahocorasick in /usr/local/lib/python3.10/dist-packages (from sefr_cut) (1.4.0)\n",
            "Requirement already satisfied: absl-py>=1.0.0 in /usr/local/lib/python3.10/dist-packages (from tensorflow>=2.0.0->sefr_cut) (1.4.0)\n",
            "Requirement already satisfied: astunparse>=1.6.0 in /usr/local/lib/python3.10/dist-packages (from tensorflow>=2.0.0->sefr_cut) (1.6.3)\n",
            "Requirement already satisfied: flatbuffers>=24.3.25 in /usr/local/lib/python3.10/dist-packages (from tensorflow>=2.0.0->sefr_cut) (24.3.25)\n",
            "Requirement already satisfied: gast!=0.5.0,!=0.5.1,!=0.5.2,>=0.2.1 in /usr/local/lib/python3.10/dist-packages (from tensorflow>=2.0.0->sefr_cut) (0.6.0)\n",
            "Requirement already satisfied: google-pasta>=0.1.1 in /usr/local/lib/python3.10/dist-packages (from tensorflow>=2.0.0->sefr_cut) (0.2.0)\n",
            "Requirement already satisfied: h5py>=3.10.0 in /usr/local/lib/python3.10/dist-packages (from tensorflow>=2.0.0->sefr_cut) (3.12.1)\n",
            "Requirement already satisfied: libclang>=13.0.0 in /usr/local/lib/python3.10/dist-packages (from tensorflow>=2.0.0->sefr_cut) (18.1.1)\n",
            "Requirement already satisfied: ml-dtypes<0.5.0,>=0.3.1 in /usr/local/lib/python3.10/dist-packages (from tensorflow>=2.0.0->sefr_cut) (0.4.1)\n",
            "Requirement already satisfied: opt-einsum>=2.3.2 in /usr/local/lib/python3.10/dist-packages (from tensorflow>=2.0.0->sefr_cut) (3.4.0)\n",
            "Requirement already satisfied: packaging in /usr/local/lib/python3.10/dist-packages (from tensorflow>=2.0.0->sefr_cut) (24.2)\n",
            "Requirement already satisfied: protobuf!=4.21.0,!=4.21.1,!=4.21.2,!=4.21.3,!=4.21.4,!=4.21.5,<5.0.0dev,>=3.20.3 in /usr/local/lib/python3.10/dist-packages (from tensorflow>=2.0.0->sefr_cut) (4.25.5)\n",
            "Requirement already satisfied: requests<3,>=2.21.0 in /usr/local/lib/python3.10/dist-packages (from tensorflow>=2.0.0->sefr_cut) (2.32.3)\n",
            "Requirement already satisfied: setuptools in /usr/local/lib/python3.10/dist-packages (from tensorflow>=2.0.0->sefr_cut) (75.1.0)\n",
            "Requirement already satisfied: six>=1.12.0 in /usr/local/lib/python3.10/dist-packages (from tensorflow>=2.0.0->sefr_cut) (1.16.0)\n",
            "Requirement already satisfied: termcolor>=1.1.0 in /usr/local/lib/python3.10/dist-packages (from tensorflow>=2.0.0->sefr_cut) (2.5.0)\n",
            "Requirement already satisfied: typing-extensions>=3.6.6 in /usr/local/lib/python3.10/dist-packages (from tensorflow>=2.0.0->sefr_cut) (4.12.2)\n",
            "Requirement already satisfied: wrapt>=1.11.0 in /usr/local/lib/python3.10/dist-packages (from tensorflow>=2.0.0->sefr_cut) (1.17.0)\n",
            "Requirement already satisfied: grpcio<2.0,>=1.24.3 in /usr/local/lib/python3.10/dist-packages (from tensorflow>=2.0.0->sefr_cut) (1.68.1)\n",
            "Requirement already satisfied: tensorboard<2.18,>=2.17 in /usr/local/lib/python3.10/dist-packages (from tensorflow>=2.0.0->sefr_cut) (2.17.1)\n",
            "Requirement already satisfied: keras>=3.2.0 in /usr/local/lib/python3.10/dist-packages (from tensorflow>=2.0.0->sefr_cut) (3.5.0)\n",
            "Requirement already satisfied: tensorflow-io-gcs-filesystem>=0.23.1 in /usr/local/lib/python3.10/dist-packages (from tensorflow>=2.0.0->sefr_cut) (0.37.1)\n",
            "Requirement already satisfied: python-dateutil>=2.8.2 in /usr/local/lib/python3.10/dist-packages (from pandas->sefr_cut) (2.8.2)\n",
            "Requirement already satisfied: pytz>=2020.1 in /usr/local/lib/python3.10/dist-packages (from pandas->sefr_cut) (2024.2)\n",
            "Requirement already satisfied: tzdata>=2022.7 in /usr/local/lib/python3.10/dist-packages (from pandas->sefr_cut) (2024.2)\n",
            "Requirement already satisfied: joblib>=1.2.0 in /usr/local/lib/python3.10/dist-packages (from scikit-learn->sefr_cut) (1.4.2)\n",
            "Requirement already satisfied: threadpoolctl>=3.1.0 in /usr/local/lib/python3.10/dist-packages (from scikit-learn->sefr_cut) (3.5.0)\n",
            "Requirement already satisfied: wheel<1.0,>=0.23.0 in /usr/local/lib/python3.10/dist-packages (from astunparse>=1.6.0->tensorflow>=2.0.0->sefr_cut) (0.45.1)\n",
            "Requirement already satisfied: rich in /usr/local/lib/python3.10/dist-packages (from keras>=3.2.0->tensorflow>=2.0.0->sefr_cut) (13.9.4)\n",
            "Requirement already satisfied: namex in /usr/local/lib/python3.10/dist-packages (from keras>=3.2.0->tensorflow>=2.0.0->sefr_cut) (0.0.8)\n",
            "Requirement already satisfied: optree in /usr/local/lib/python3.10/dist-packages (from keras>=3.2.0->tensorflow>=2.0.0->sefr_cut) (0.13.1)\n",
            "Requirement already satisfied: charset-normalizer<4,>=2 in /usr/local/lib/python3.10/dist-packages (from requests<3,>=2.21.0->tensorflow>=2.0.0->sefr_cut) (3.4.0)\n",
            "Requirement already satisfied: idna<4,>=2.5 in /usr/local/lib/python3.10/dist-packages (from requests<3,>=2.21.0->tensorflow>=2.0.0->sefr_cut) (3.10)\n",
            "Requirement already satisfied: urllib3<3,>=1.21.1 in /usr/local/lib/python3.10/dist-packages (from requests<3,>=2.21.0->tensorflow>=2.0.0->sefr_cut) (2.2.3)\n",
            "Requirement already satisfied: certifi>=2017.4.17 in /usr/local/lib/python3.10/dist-packages (from requests<3,>=2.21.0->tensorflow>=2.0.0->sefr_cut) (2024.8.30)\n",
            "Requirement already satisfied: markdown>=2.6.8 in /usr/local/lib/python3.10/dist-packages (from tensorboard<2.18,>=2.17->tensorflow>=2.0.0->sefr_cut) (3.7)\n",
            "Requirement already satisfied: tensorboard-data-server<0.8.0,>=0.7.0 in /usr/local/lib/python3.10/dist-packages (from tensorboard<2.18,>=2.17->tensorflow>=2.0.0->sefr_cut) (0.7.2)\n",
            "Requirement already satisfied: werkzeug>=1.0.1 in /usr/local/lib/python3.10/dist-packages (from tensorboard<2.18,>=2.17->tensorflow>=2.0.0->sefr_cut) (3.1.3)\n",
            "Requirement already satisfied: MarkupSafe>=2.1.1 in /usr/local/lib/python3.10/dist-packages (from werkzeug>=1.0.1->tensorboard<2.18,>=2.17->tensorflow>=2.0.0->sefr_cut) (3.0.2)\n",
            "Requirement already satisfied: markdown-it-py>=2.2.0 in /usr/local/lib/python3.10/dist-packages (from rich->keras>=3.2.0->tensorflow>=2.0.0->sefr_cut) (3.0.0)\n",
            "Requirement already satisfied: pygments<3.0.0,>=2.13.0 in /usr/local/lib/python3.10/dist-packages (from rich->keras>=3.2.0->tensorflow>=2.0.0->sefr_cut) (2.18.0)\n",
            "Requirement already satisfied: mdurl~=0.1 in /usr/local/lib/python3.10/dist-packages (from markdown-it-py>=2.2.0->rich->keras>=3.2.0->tensorflow>=2.0.0->sefr_cut) (0.1.2)\n",
            "Requirement already satisfied: tltk in /usr/local/lib/python3.10/dist-packages (1.9.1)\n",
            "Requirement already satisfied: nltk in /usr/local/lib/python3.10/dist-packages (from tltk) (3.9.1)\n",
            "Requirement already satisfied: scikit-learn in /usr/local/lib/python3.10/dist-packages (from tltk) (1.5.2)\n",
            "Requirement already satisfied: sklearn-crfsuite in /usr/local/lib/python3.10/dist-packages (from tltk) (0.5.0)\n",
            "Requirement already satisfied: gensim in /usr/local/lib/python3.10/dist-packages (from tltk) (4.3.3)\n",
            "Requirement already satisfied: numpy<2.0,>=1.18.5 in /usr/local/lib/python3.10/dist-packages (from gensim->tltk) (1.26.4)\n",
            "Requirement already satisfied: scipy<1.14.0,>=1.7.0 in /usr/local/lib/python3.10/dist-packages (from gensim->tltk) (1.13.1)\n",
            "Requirement already satisfied: smart-open>=1.8.1 in /usr/local/lib/python3.10/dist-packages (from gensim->tltk) (7.0.5)\n",
            "Requirement already satisfied: click in /usr/local/lib/python3.10/dist-packages (from nltk->tltk) (8.1.7)\n",
            "Requirement already satisfied: joblib in /usr/local/lib/python3.10/dist-packages (from nltk->tltk) (1.4.2)\n",
            "Requirement already satisfied: regex>=2021.8.3 in /usr/local/lib/python3.10/dist-packages (from nltk->tltk) (2024.9.11)\n",
            "Requirement already satisfied: tqdm in /usr/local/lib/python3.10/dist-packages (from nltk->tltk) (4.66.6)\n",
            "Requirement already satisfied: threadpoolctl>=3.1.0 in /usr/local/lib/python3.10/dist-packages (from scikit-learn->tltk) (3.5.0)\n",
            "Requirement already satisfied: python-crfsuite>=0.9.7 in /usr/local/lib/python3.10/dist-packages (from sklearn-crfsuite->tltk) (0.9.11)\n",
            "Requirement already satisfied: tabulate>=0.4.2 in /usr/local/lib/python3.10/dist-packages (from sklearn-crfsuite->tltk) (0.9.0)\n",
            "Requirement already satisfied: wrapt in /usr/local/lib/python3.10/dist-packages (from smart-open>=1.8.1->gensim->tltk) (1.17.0)\n"
          ]
        }
      ]
    },
    {
      "cell_type": "code",
      "source": [
        "import time\n",
        "from pythainlp.tokenize import word_tokenize\n",
        "\n",
        "engines = [\"longest\", \"attacut\", \"deepcut\", \"longest\", \"newmm\", \"newmm-safe\", \"mm\", \"nercut\", \"nlpo3\", \"oskut\", \"sefr_cut\", \"tltk\"]\n",
        "\n",
        "# Dictionary to store the execution time for each engine\n",
        "execution_times = {}\n",
        "\n",
        "# Loop through each engine and measure the execution time\n",
        "for engine in engines:\n",
        "    start_time = time.time()  # Record the start time\n",
        "    result = word_tokenize(article_1, engine=engine, keep_whitespace=False)  # Tokenize the sentence\n",
        "    end_time = time.time()  # Record the end time\n",
        "\n",
        "    # Calculate the elapsed time\n",
        "    elapsed_time = end_time - start_time\n",
        "    execution_times[engine] = elapsed_time  # Store the time in the dictionary\n",
        "\n",
        "    # Print the result for each engine\n",
        "    print(f\"Engine: {engine}\")\n",
        "    print(f\"Result: {result}\")\n",
        "    print(f\"Words counts: {len(result)}\")\n",
        "    print(f\"Time: {elapsed_time:.6f} seconds\\n\")\n",
        "\n",
        "# Print a summary of execution times\n",
        "print(\"### Summary of Execution Times ###\")\n",
        "for engine, elapsed_time in execution_times.items():\n",
        "    print(f\"{engine}: {elapsed_time:.6f} seconds\")\n"
      ],
      "metadata": {
        "colab": {
          "base_uri": "https://localhost:8080/"
        },
        "id": "MMoXXVTSfyHe",
        "outputId": "1c957c63-9a50-4830-9512-4d947658f2eb"
      },
      "execution_count": null,
      "outputs": [
        {
          "output_type": "stream",
          "name": "stdout",
          "text": [
            "Engine: longest\n",
            "Result: ['นาย', 'เสริม', 'ศักดิ์', 'พงษ์', 'พา', 'นิช', 'รัฐมนตรี', 'ว่าการ', 'กระทรวง', 'การท่องเที่ยว', 'และ', 'กีฬา', 'กล่าวว่า', 'กระทรวง', 'การท่องเที่ยว', 'และ', 'กีฬา', 'มี', 'มาตรการ', 'กระตุ้น', 'ตลาด', 'ต่างประเทศ', 'ด้วย', 'การ', 'ส่งเสริม', 'ภาพลักษณ์', 'เชิง', 'บวก', 'เพื่อ', 'กระตุ้น', 'ให้', 'เกิด', 'การ', 'เดินทาง', 'ของ', 'นักท่องเที่ยว', 'ต่างชาติ', 'มายัง', 'ประเทศ', 'ไทย', 'จึง', 'ได้', 'ร่วมมือ', 'กับ', 'pop', 'mart', 'จัดกิจกรรม', 'welcome', 'ceremony', 'of', 'labubu', 'เตรียม', 'เฉลิม', 'ฉลอง', 'ความสัมพันธ์', 'ไทย', 'จีน', 'ครบ', '50', 'ปี', 'ภายใต้', 'โครง', 'การ', '“', 'ลาบู', 'บู้', 'เที่ยว', 'ไทย', '”', 'ต้อนรับ', 'มาสคอต', 'ลาบู', 'บู้', 'จาก', 'กรุง', 'ปักกิ่ง', 'สาธารณรัฐ', 'ประชาชน', 'จีน', 'สู่', 'ท่าอากาศยาน', 'สุวรรณภูมิ', 'ประเทศ', 'ไทย', 'เพื่อ', 'จัดทำ', 'คลิป', 'วิดีโอ', 'ประชาสัมพันธ์', 'เที่ยว', 'ไทย', 'ตามรอย', 'ลาบู', 'บู้']\n",
            "Words counts: 94\n",
            "Time: 0.035605 seconds\n",
            "\n",
            "Engine: attacut\n",
            "Result: ['นายเสริมศักดิ์ พงษ์พานิช', 'รัฐมนตรี', 'ว่าการ', 'กระทรวงการท่องเที่ยว', 'และกีฬา', 'กล่าว', 'ว่า', 'กระทรวงการท่องเที่ยว', 'และกีฬา', 'มี', 'มาตรการ', 'กระตุ้น', 'ตลาด', 'ต่าง', 'ประเทศ', 'ด้วย', 'การ', 'ส่งเสริม', 'ภาพลักษณ์', 'เชิง', 'บวก', 'เพื่อ', 'กระตุ้น', 'ให้', 'เกิด', 'การ', 'เดินทาง', 'ของ', 'นัก', 'ท่องเที่ยว', 'ต่าง', 'ชาติ', 'มา', 'ยัง', 'ประเทศไทย', 'จึง', 'ได้', 'ร่วมมือ', 'กับ', 'POP', 'MART', 'จัด', 'กิจกรรม', 'Welcome', 'Ceremony', 'of', 'LABUBU', 'เตรียม', 'เฉลิม', 'ฉลอง', 'ความ', 'สัมพันธ์', 'ไทยจีน', 'ครบ', '50', 'ปี', 'ภาย', 'ใต้', 'โครงการ', '“', 'ลาบูบู้', 'เที่ยว', 'ไทย', '”', 'ต้อนรับ', 'มาส', 'คอตลาบูบู้', 'จาก', 'กรุงปักกิ่ง', 'สาธารณรัฐ', 'ประชาชน', 'จีน', 'สู่', 'ท่าอากาศยานสุวรรณภูมิ', 'ประเทศไทย', 'เพื่อ', 'จัดทำ', 'คลิป', 'วิดีโอ', 'ประชาสัมพันธ์', 'เที่ยว', 'ไทย', 'ตาม', 'รอย', 'ลาบูบู้']\n",
            "Words counts: 85\n",
            "Time: 0.044703 seconds\n",
            "\n",
            "\u001b[1m17/17\u001b[0m \u001b[32m━━━━━━━━━━━━━━━━━━━━\u001b[0m\u001b[37m\u001b[0m \u001b[1m0s\u001b[0m 16ms/step\n",
            "Engine: deepcut\n",
            "Result: ['นายเสริมศักดิ์ พงษ์พานิช', 'รัฐมนตรี', 'ว่าการ', 'กระทรวงการท่องเที่ยวและกีฬา', 'กล่าว', 'ว่า', 'กระทรวงการท่องเที่ยวและ', 'กีฬา', 'มี', 'มาตรการ', 'กระตุ้น', 'ตลาด', 'ต่าง', 'ประเทศ', 'ด้วย', 'การ', 'ส่งเสริม', 'ภาพลักษณ์', 'เชิง', 'บวก', 'เพื่อ', 'กระตุ้น', 'ให้', 'เกิด', 'การ', 'เดินทาง', 'ของ', 'นัก', 'ท่องเที่ยว', 'ต่าง', 'ชาติ', 'มา', 'ยัง', 'ประเทศไทย', 'จึง', 'ได้', 'ร่วมมือ', 'กับ', 'POP', 'MART', 'จัด', 'กิจกรรม', 'Welcome', 'Ceremony', 'of', 'LABUBU', 'เตรียม', 'เฉลิม', 'ฉลอง', 'ความ', 'สัมพันธ์', 'ไทย', 'จีน', 'ครบ', '50', 'ปี', 'ภาย', 'ใต้', 'โครงการ', '“', 'ลาบูบู้', 'เที่ยว', 'ไทย', '”', 'ต้อนรับ', 'มาสคอตลาบูบู้จาก', 'กรุงปักกิ่ง', 'สาธารณรัฐ', 'ประชาชน', 'จีน', 'สู่', 'ท่าอากาศยานสุวรรณภูมิ', 'ประเทศไทย', 'เพื่อ', 'จัดทำ', 'คลิป', 'วิดีโอ', 'ประชาสัมพันธ์', 'เที่ยว', 'ไทย', 'ตาม', 'รอย', 'ลาบูบู้']\n",
            "Words counts: 83\n",
            "Time: 0.408895 seconds\n",
            "\n",
            "Engine: longest\n",
            "Result: ['นาย', 'เสริม', 'ศักดิ์', 'พงษ์', 'พา', 'นิช', 'รัฐมนตรี', 'ว่าการ', 'กระทรวง', 'การท่องเที่ยว', 'และ', 'กีฬา', 'กล่าวว่า', 'กระทรวง', 'การท่องเที่ยว', 'และ', 'กีฬา', 'มี', 'มาตรการ', 'กระตุ้น', 'ตลาด', 'ต่างประเทศ', 'ด้วย', 'การ', 'ส่งเสริม', 'ภาพลักษณ์', 'เชิง', 'บวก', 'เพื่อ', 'กระตุ้น', 'ให้', 'เกิด', 'การ', 'เดินทาง', 'ของ', 'นักท่องเที่ยว', 'ต่างชาติ', 'มายัง', 'ประเทศ', 'ไทย', 'จึง', 'ได้', 'ร่วมมือ', 'กับ', 'pop', 'mart', 'จัดกิจกรรม', 'welcome', 'ceremony', 'of', 'labubu', 'เตรียม', 'เฉลิม', 'ฉลอง', 'ความสัมพันธ์', 'ไทย', 'จีน', 'ครบ', '50', 'ปี', 'ภายใต้', 'โครง', 'การ', '“', 'ลาบู', 'บู้', 'เที่ยว', 'ไทย', '”', 'ต้อนรับ', 'มาสคอต', 'ลาบู', 'บู้', 'จาก', 'กรุง', 'ปักกิ่ง', 'สาธารณรัฐ', 'ประชาชน', 'จีน', 'สู่', 'ท่าอากาศยาน', 'สุวรรณภูมิ', 'ประเทศ', 'ไทย', 'เพื่อ', 'จัดทำ', 'คลิป', 'วิดีโอ', 'ประชาสัมพันธ์', 'เที่ยว', 'ไทย', 'ตามรอย', 'ลาบู', 'บู้']\n",
            "Words counts: 94\n",
            "Time: 0.035390 seconds\n",
            "\n",
            "Engine: newmm\n",
            "Result: ['นาย', 'เสริม', 'ศักดิ์', 'พงษ์', 'พา', 'นิช', 'รัฐมนตรี', 'ว่าการ', 'กระทรวง', 'การท่องเที่ยว', 'และ', 'กีฬา', 'กล่าวว่า', 'กระทรวง', 'การท่องเที่ยว', 'และ', 'กีฬา', 'มี', 'มาตรการ', 'กระตุ้น', 'ตลาด', 'ต่างประเทศ', 'ด้วย', 'การ', 'ส่งเสริม', 'ภาพลักษณ์', 'เชิง', 'บวก', 'เพื่อ', 'กระตุ้น', 'ให้', 'เกิด', 'การ', 'เดินทาง', 'ของ', 'นักท่องเที่ยว', 'ต่างชาติ', 'มายัง', 'ประเทศ', 'ไทย', 'จึง', 'ได้', 'ร่วมมือ', 'กับ', 'POP', 'MART', 'จัดกิจกรรม', 'Welcome', 'Ceremony', 'of', 'LABUBU', 'เตรียม', 'เฉลิม', 'ฉลอง', 'ความสัมพันธ์', 'ไทย', 'จีน', 'ครบ', '50', 'ปี', 'ภายใต้', 'โครงการ', '“', 'ลา', 'บู', 'บู้', 'เที่ยว', 'ไทย', '”', 'ต้อนรับ', 'มาสคอต', 'ลา', 'บู', 'บู้', 'จาก', 'กรุง', 'ปักกิ่ง', 'สาธารณรัฐ', 'ประชาชน', 'จีน', 'สู่', 'ท่าอากาศยาน', 'สุวรรณภูมิ', 'ประเทศ', 'ไทย', 'เพื่อ', 'จัดทำ', 'คลิป', 'วิดีโอ', 'ประชาสัมพันธ์', 'เที่ยว', 'ไทย', 'ตามรอย', 'ลา', 'บู', 'บู้']\n",
            "Words counts: 96\n",
            "Time: 0.006221 seconds\n",
            "\n",
            "Engine: newmm-safe\n",
            "Result: ['นาย', 'เสริม', 'ศักดิ์', 'พงษ์', 'พา', 'นิช', 'รัฐมนตรี', 'ว่', 'า', 'การ', 'กระทรวง', 'การท่องเที่ยว', 'และ', 'กีฬา', 'กล่าวว่า', 'กระทรวง', 'การท่องเที่ยว', 'และ', 'กีฬา', 'มี', 'มาตรการ', 'กระตุ้น', 'ตลาด', 'ต่างประเทศ', 'ด้วย', 'การ', 'ส่งเสริม', 'ภาพลักษณ์', 'เชิง', 'บวก', 'เพื่อ', 'กระตุ้น', 'ให้', 'เกิด', 'การ', 'เ', 'ดิน', 'ทาง', 'ของ', 'นักท่องเที่ยว', 'ต่างชาติ', 'มายัง', 'ประเทศ', 'ไทย', 'จึง', 'ได้', 'ร่', 'วม', 'มือ', 'กับ', 'POP', 'MART', 'จัดกิจกรรม', 'Welc', 'ome', 'Ceremony', 'of', 'LABUBU', 'เตรียม', 'เฉลิม', 'ฉลอง', 'ความ', 'สั', 'ม', 'พันธ์', 'ไทย', 'จีน', 'ครบ', '50', 'ปี', 'ภายใต้', 'โครงการ', '“', 'ลา', 'บู', 'บู้', 'เ', 'ที่', 'ยว', 'ไทย', '”', 'ต้อนรับ', 'มาสคอต', 'ลา', 'บู', 'บู้', 'จาก', 'กรุง', 'ปักกิ่ง', 'สาธารณรัฐ', 'ประชาชน', 'จีน', 'สู่', 'ท่าอากาศยาน', 'สุวรรณภูมิ', 'ประเทศ', 'ไทย', 'เพื่อ', 'จัดทำ', 'คลิป', 'วิดีโอ', 'ประชาสัมพันธ์', 'เที่ยว', 'ไทย', 'ตามรอย', 'ลา', 'บู', 'บู้']\n",
            "Words counts: 108\n",
            "Time: 0.002788 seconds\n",
            "\n",
            "Engine: mm\n",
            "Result: ['นาย', 'เสริม', 'ศักดิ์', 'พงษ์', 'พานิช', 'รัฐมนตรี', 'ว่าการกระทรวงการท่องเที่ยว', 'และ', 'กีฬา', 'กล่าวว่า', 'กระทรวงการท่องเที่ยว', 'และ', 'กีฬา', 'มี', 'มาตรการกระตุ้น', 'ตลาด', 'ต่างประเทศ', 'ด้วย', 'การส่งเสริม', 'ภาพลักษณ์', 'เชิง', 'บวก', 'เพื่อ', 'กระตุ้น', 'ให้', 'เกิด', 'การ', 'เดินทาง', 'ของ', 'นักท่องเที่ยว', 'ต่างชาติ', 'มายัง', 'ประเทศ', 'ไทย', 'จึง', 'ได้', 'ร่วมมือ', 'กับ', 'POP', 'MART', 'จัดกิจกรรม', 'Welcome', 'Ceremony', 'of', 'LABUBU', 'เตรียม', 'เฉลิม', 'ฉลองความสัมพันธ์', 'ไทย', 'จีนครบ', '50', 'ปี', 'ภายใต้', 'โครงการ', '“', 'ลาบ', 'ู', 'บู้', 'เที่ยว', 'ไทย', '”', 'ต้อนรับ', 'มาสคอต', 'ลาบ', 'ู', 'บู้', 'จากกรุง', 'ปักกิ่ง', 'สาธารณรัฐ', 'ประชาชน', 'จีน', 'สู่', 'ท่าอากาศยาน', 'สุวรรณภูมิ', 'ประเทศ', 'ไทย', 'เพื่อ', 'จัดทำ', 'คลิป', 'วิดีโอ', 'ประชาสัมพันธ์', 'เที่ยว', 'ไทย', 'ตามรอยลาบ', 'ู', 'บู้']\n",
            "Words counts: 86\n",
            "Time: 0.002622 seconds\n",
            "\n",
            "Engine: nercut\n",
            "Result: ['นายเสริมศักดิ์ พงษ์พานิช', 'รัฐมนตรี', 'ว่าการกระทรวงการท่องเที่ยว', 'และ', 'กีฬา', 'กล่าวว่า', 'กระทรวงการท่องเที่ยว', 'และ', 'กีฬา', 'มี', 'มาตรการกระตุ้น', 'ตลาด', 'ต่างประเทศ', 'ด้วย', 'การส่งเสริม', 'ภาพลักษณ์', 'เชิง', 'บวก', 'เพื่อ', 'กระตุ้น', 'ให้', 'เกิด', 'การ', 'เดินทาง', 'ของ', 'นักท่องเที่ยว', 'ต่างชาติ', 'มายัง', 'ประเทศ', 'ไทย', 'จึง', 'ได้', 'ร่วมมือ', 'กับ', 'POP', 'MART', 'จัดกิจกรรม', 'Welcome', 'Ceremony', 'of', 'LABUBU', 'เตรียม', 'เฉลิม', 'ฉลองความสัมพันธ์', 'ไทย', 'จีนครบ', '50', 'ปี', 'ภายใต้', 'โครงการ', '“', 'ลาบ', 'ู', 'บู้', 'เที่ยว', 'ไทย', '”', 'ต้อนรับมาสคอตลาบูบู้จากกรุงปักกิ่ง สาธารณรัฐ', 'ประชาชน', 'จีน', 'สู่', 'ท่าอากาศยาน', 'สุวรรณภูมิ', 'ประเทศ', 'ไทย', 'เพื่อ', 'จัดทำ', 'คลิป', 'วิดีโอ', 'ประชาสัมพันธ์', 'เที่ยว', 'ไทย', 'ตามรอยลาบ', 'ู', 'บู้']\n",
            "Words counts: 75\n",
            "Time: 0.053375 seconds\n",
            "\n",
            "Engine: nlpo3\n",
            "Result: ['นาย', 'เสริม', 'ศักดิ์', 'พงษ์', 'พา', 'นิช', 'รัฐมนตรี', 'ว่าการ', 'กระทรวง', 'การท่องเที่ยว', 'และ', 'กีฬา', 'กล่าวว่า', 'กระทรวง', 'การท่องเที่ยว', 'และ', 'กีฬา', 'มี', 'มาตรการ', 'กระตุ้น', 'ตลาด', 'ต่างประเทศ', 'ด้วย', 'การ', 'ส่งเสริม', 'ภาพลักษณ์', 'เชิง', 'บวก', 'เพื่อ', 'กระตุ้น', 'ให้', 'เกิด', 'การ', 'เดินทาง', 'ของ', 'นักท่องเที่ยว', 'ต่างชาติ', 'มายัง', 'ประเทศ', 'ไทย', 'จึง', 'ได้', 'ร่วมมือ', 'กับ', 'POP', 'MART', 'จัดกิจกรรม', 'Welcome', 'Ceremony', 'of', 'LABUBU', 'เตรียม', 'เฉลิม', 'ฉลอง', 'ความสัมพันธ์', 'ไทย', 'จีน', 'ครบ', '50', 'ปี', 'ภายใต้', 'โครงการ', '“', 'ลา', 'บู', 'บู้', 'เที่ยว', 'ไทย', '”', 'ต้อนรับ', 'มาสคอต', 'ลา', 'บู', 'บู้', 'จาก', 'กรุง', 'ปักกิ่ง', 'สาธารณรัฐ', 'ประชาชน', 'จีน', 'สู่', 'ท่าอากาศยาน', 'สุวรรณภูมิ', 'ประเทศ', 'ไทย', 'เพื่อ', 'จัดทำ', 'คลิป', 'วิดีโอ', 'ประชาสัมพันธ์', 'เที่ยว', 'ไทย', 'ตามรอย', 'ลา', 'บู', 'บู้']\n",
            "Words counts: 96\n",
            "Time: 0.004225 seconds\n",
            "\n",
            "\u001b[1m17/17\u001b[0m \u001b[32m━━━━━━━━━━━━━━━━━━━━\u001b[0m\u001b[37m\u001b[0m \u001b[1m0s\u001b[0m 27ms/step\n",
            "\u001b[1m6/6\u001b[0m \u001b[32m━━━━━━━━━━━━━━━━━━━━\u001b[0m\u001b[37m\u001b[0m \u001b[1m0s\u001b[0m 38ms/step\n",
            "Engine: oskut\n",
            "Result: ['นาย', 'เสริมศักดิ์', 'พงษ์พานิช', 'รัฐมนตรี', 'ว่า', 'การ', 'กระทรวง', 'การ', 'ท่อง', 'เที่ยว', 'และ', 'กีฬา', 'กล่าว', 'ว่า', 'กระทรวง', 'การ', 'ท่อง', 'เที่ยว', 'และ', 'กีฬา', 'มี', 'มาตรการ', 'กระตุ้น', 'ตลาด', 'ต่าง', 'ประเทศ', 'ด้วยการ', 'ส่ง', 'เสริม', 'ภาพลักษณ์', 'เชิง', 'บวก', 'เพื่อ', 'กระ', 'ตุ้น', 'ให้', 'เกิด', 'การ', 'เดิน', 'ทาง', 'ของ', 'นักท่อง', 'เที่ยว', 'ต่างชาติ', 'มายัง', 'ประเทศ', 'ไทย', 'จึง', 'ได้', 'ร่วม', 'มือ', 'กับ', 'POP', 'MART', 'จัดกิจกรรม', 'Welcome', 'Ceremony', 'of', 'LABUBU', 'เตรียม', 'เฉลิม', 'ฉลอง', 'ความ', 'สัม', 'พันธ์', 'ไทย', 'จีน', 'ครบ', '50', 'ปี', 'ภาย', 'ใต้', 'โครงการ', '“ลาบู', 'บู้', 'เที่ยว', 'ไทย', '”', 'ต้อน', 'รับ', 'มาส', 'คอตลาบู', 'บู้', 'จาก', 'กรุง', 'ปัก', 'กิ่ง', 'สาธา', 'รณ', 'รัฐ', 'ประชาชน', 'จีน', 'สู่', 'ท่า', 'อากาศ', 'ยาน', 'สุวรรณภูมิ', 'ประเทศ', 'ไทย', 'เพื่อ', 'จัด', 'ทำ', 'คลิป', 'วิดีโอประชา', 'สัมพันธ์เที่ยว', 'ไทย', 'ตาม', 'รอย', 'ลาบู', 'บู้']\n",
            "Words counts: 110\n",
            "Time: 1.819225 seconds\n",
            "\n",
            "\u001b[1m17/17\u001b[0m \u001b[32m━━━━━━━━━━━━━━━━━━━━\u001b[0m\u001b[37m\u001b[0m \u001b[1m0s\u001b[0m 27ms/step\n",
            "Engine: sefr_cut\n",
            "Result: ['นายเสริมศักดิ์', 'พงษ์พานิช', 'รัฐมนตรี', 'ว่าการ', 'กระทรวงการท่องเที่ยวและกีฬา', 'กล่าว', 'ว่า', 'กระทรวงการท่องเที่ยวและ', 'กีฬา', 'มี', 'มาตรการ', 'กระตุ้น', 'ตลาด', 'ต่าง', 'ประเทศ', 'ด้วย', 'การ', 'ส่งเสริม', 'ภาพลักษณ์', 'เชิง', 'บวก', 'เพื่อ', 'กระตุ้น', 'ให้', 'เกิด', 'การ', 'เดินทาง', 'ของ', 'นัก', 'ท่องเที่ยว', 'ต่าง', 'ชาติ', 'มา', 'ยัง', 'ประเทศ', 'ไทย', 'จึง', 'ได้', 'ร่วมมือ', 'กับ', 'POP', 'MART', 'จัด', 'กิจกรรม', 'Welcome', 'Ceremony', 'of', 'LABUBU', 'เตรียม', 'เฉลิม', 'ฉลอง', 'ความ', 'สัมพันธ์', 'ไทย', 'จีน', 'ครบ', '50', 'ปี', 'ภาย', 'ใต้', 'โครงการ', '“', 'ลาบูบู้', 'เที่ยว', 'ไทย', '”', 'ต้อนรับ', 'มาสคอตลาบู', 'บู้', 'จาก', 'กรุง', 'ปักกิ่ง', 'สาธารณรัฐ', 'ประชาชน', 'จีน', 'สู่', 'ท่าอากาศยานสุวรรณภูมิ', 'ประเทศ', 'ไทย', 'เพื่อ', 'จัดทำ', 'คลิป', 'วิดีโอ', 'ประชาสัมพันธ์', 'เที่ยว', 'ไทย', 'ตาม', 'รอย', 'ลาบูบู้']\n",
            "Words counts: 89\n",
            "Time: 1.454635 seconds\n",
            "\n",
            "Engine: tltk\n",
            "Result: ['นาย', 'เสริม', 'ศักดิ์', 'พงษ์', 'พา', 'นิช', 'รัฐมนตรีว่าการ', 'กระทรวงการท่องเที่ยวและกีฬา', 'กล่าว', 'ว่า', 'กระทรวงการท่องเที่ยวและกีฬา', 'มี', 'มาตรการ', 'กระตุ้น', 'ตลาด', 'ต่างประเทศ', 'ด้วย', 'การ', 'ส่งเสริม', 'ภาพลักษณ์', 'เชิง', 'บวก', 'เพื่อ', 'กระตุ้น', 'ให้', 'เกิด', 'การ', 'เดินทาง', 'ของ', 'นักท่องเที่ยว', 'ต่างชาติ', 'มา', 'ยัง', 'ประเทศ', 'ไทย', 'จึง', 'ได้', 'ร่วมมือ', 'กับ', 'POP', 'MART', 'จัด', 'กิจกรรม', 'Welcome', 'Ceremony', 'of', 'LABUBU', 'เตรียม', 'เฉลิม', 'ฉลอง', 'ความสัมพันธ์', 'ไทย', 'จีน', 'ครบ', '50', 'ปี', 'ภายใต้', 'โครงการ', '“', 'ลา', 'บู', 'บู้', 'เที่ยว', 'ไทย', '”', 'ต้อนรับ', 'มาส', 'คอต', 'ลา', 'บู', 'บู้', 'จาก', 'กรุงปักกิ่ง', 'สาธารณรัฐ', 'ประชาชน', 'จีน', 'สู่', 'ท่าอากาศยาน', 'สุวรรณภูมิ', 'ประเทศ', 'ไทย', 'เพื่อ', 'จัดทำ', 'คลิป', 'วิดีโอ', 'ประชาสัมพันธ์', 'เที่ยว', 'ไทย', 'ตามรอย', 'ลา', 'บู', 'บู้']\n",
            "Words counts: 92\n",
            "Time: 8.457903 seconds\n",
            "\n",
            "### Summary of Execution Times ###\n",
            "longest: 0.035390 seconds\n",
            "attacut: 0.044703 seconds\n",
            "deepcut: 0.408895 seconds\n",
            "newmm: 0.006221 seconds\n",
            "newmm-safe: 0.002788 seconds\n",
            "mm: 0.002622 seconds\n",
            "nercut: 0.053375 seconds\n",
            "nlpo3: 0.004225 seconds\n",
            "oskut: 1.819225 seconds\n",
            "sefr_cut: 1.454635 seconds\n",
            "tltk: 8.457903 seconds\n"
          ]
        }
      ]
    },
    {
      "cell_type": "code",
      "source": [
        "!pip install pandas\n",
        "!pip install matplotlib"
      ],
      "metadata": {
        "colab": {
          "base_uri": "https://localhost:8080/"
        },
        "id": "skEJTt6NgVNp",
        "outputId": "f0463a05-953d-4f62-c374-cfb8a8127d08"
      },
      "execution_count": null,
      "outputs": [
        {
          "output_type": "stream",
          "name": "stdout",
          "text": [
            "Requirement already satisfied: pandas in /usr/local/lib/python3.10/dist-packages (2.2.2)\n",
            "Requirement already satisfied: numpy>=1.22.4 in /usr/local/lib/python3.10/dist-packages (from pandas) (1.26.4)\n",
            "Requirement already satisfied: python-dateutil>=2.8.2 in /usr/local/lib/python3.10/dist-packages (from pandas) (2.8.2)\n",
            "Requirement already satisfied: pytz>=2020.1 in /usr/local/lib/python3.10/dist-packages (from pandas) (2024.2)\n",
            "Requirement already satisfied: tzdata>=2022.7 in /usr/local/lib/python3.10/dist-packages (from pandas) (2024.2)\n",
            "Requirement already satisfied: six>=1.5 in /usr/local/lib/python3.10/dist-packages (from python-dateutil>=2.8.2->pandas) (1.16.0)\n",
            "Requirement already satisfied: matplotlib in /usr/local/lib/python3.10/dist-packages (3.8.0)\n",
            "Requirement already satisfied: contourpy>=1.0.1 in /usr/local/lib/python3.10/dist-packages (from matplotlib) (1.3.1)\n",
            "Requirement already satisfied: cycler>=0.10 in /usr/local/lib/python3.10/dist-packages (from matplotlib) (0.12.1)\n",
            "Requirement already satisfied: fonttools>=4.22.0 in /usr/local/lib/python3.10/dist-packages (from matplotlib) (4.55.1)\n",
            "Requirement already satisfied: kiwisolver>=1.0.1 in /usr/local/lib/python3.10/dist-packages (from matplotlib) (1.4.7)\n",
            "Requirement already satisfied: numpy<2,>=1.21 in /usr/local/lib/python3.10/dist-packages (from matplotlib) (1.26.4)\n",
            "Requirement already satisfied: packaging>=20.0 in /usr/local/lib/python3.10/dist-packages (from matplotlib) (24.2)\n",
            "Requirement already satisfied: pillow>=6.2.0 in /usr/local/lib/python3.10/dist-packages (from matplotlib) (11.0.0)\n",
            "Requirement already satisfied: pyparsing>=2.3.1 in /usr/local/lib/python3.10/dist-packages (from matplotlib) (3.2.0)\n",
            "Requirement already satisfied: python-dateutil>=2.7 in /usr/local/lib/python3.10/dist-packages (from matplotlib) (2.8.2)\n",
            "Requirement already satisfied: six>=1.5 in /usr/local/lib/python3.10/dist-packages (from python-dateutil>=2.7->matplotlib) (1.16.0)\n"
          ]
        }
      ]
    },
    {
      "cell_type": "code",
      "source": [
        "import matplotlib.pyplot as plt\n",
        "import pandas as pd\n",
        "\n",
        "df = pd.DataFrame.from_dict(execution_times, orient='index', columns=['time'])\n",
        "print(df)\n",
        "\n",
        "plt.bar(df.index, df['time'])\n",
        "plt.xlabel(\"engine\")\n",
        "plt.ylabel(\"time\")\n",
        "plt.xticks(rotation=45)\n",
        "plt.show()"
      ],
      "metadata": {
        "colab": {
          "base_uri": "https://localhost:8080/",
          "height": 717
        },
        "id": "OAcmDSKWgMuE",
        "outputId": "271d621d-ea91-4561-cfe8-3e468094fc1c"
      },
      "execution_count": null,
      "outputs": [
        {
          "output_type": "stream",
          "name": "stdout",
          "text": [
            "                time\n",
            "longest     0.035390\n",
            "attacut     0.044703\n",
            "deepcut     0.408895\n",
            "newmm       0.006221\n",
            "newmm-safe  0.002788\n",
            "mm          0.002622\n",
            "nercut      0.053375\n",
            "nlpo3       0.004225\n",
            "oskut       1.819225\n",
            "sefr_cut    1.454635\n",
            "tltk        8.457903\n"
          ]
        },
        {
          "output_type": "display_data",
          "data": {
            "text/plain": [
              "<Figure size 640x480 with 1 Axes>"
            ],
            "image/png": "[encoded data removed]"
          },
          "metadata": {}
        }
      ]
    },
    {
      "cell_type": "code",
      "source": [
        "from pythainlp.corpus.common import thai_words\n",
        "from pythainlp.util import dict_trie"
      ],
      "metadata": {
        "id": "4Ve1c3LAKIrZ"
      },
      "execution_count": null,
      "outputs": []
    },
    {
      "cell_type": "code",
      "source": [
        "text = 'ลาบูบู้ มาสคอต สุวรรณภูมิ หมีเนย หมูเด้ง'\n",
        "\n",
        "print(\"newmm before custom dict\")\n",
        "print(word_tokenize(text, engine=\"newmm\", keep_whitespace=False))"
      ],
      "metadata": {
        "colab": {
          "base_uri": "https://localhost:8080/"
        },
        "outputId": "19b93ded-6c2e-49c7-acb5-406a2ccca672",
        "id": "AHs33PdlmOUM"
      },
      "execution_count": null,
      "outputs": [
        {
          "output_type": "stream",
          "name": "stdout",
          "text": [
            "newmm before custom dict\n",
            "['ลา', 'บู', 'บู้', 'มาสคอต', 'สุวรรณภูมิ', 'หมี', 'เนย', 'หมู', 'เด้ง']\n"
          ]
        }
      ]
    },
    {
      "cell_type": "code",
      "source": [
        "# custom dict\n",
        "custom_dict = set(thai_words())\n",
        "custom_dict.add('ลาบูบู้')\n",
        "custom_dict.add('มาสคอต')\n",
        "custom_dict.add('สุวรรณภูมิ')\n",
        "custom_dict.add('หมีเนย')\n",
        "custom_dict.add('หมูเด้ง')\n",
        "\n",
        "trie = dict_trie(dict_source=custom_dict)\n",
        "\n",
        "print(\"newmm after custom dict\")\n",
        "print(word_tokenize(text, engine=\"newmm\", custom_dict=trie, keep_whitespace=False))"
      ],
      "metadata": {
        "colab": {
          "base_uri": "https://localhost:8080/"
        },
        "id": "lgh-rfIvmuoj",
        "outputId": "f8a4e30a-7f8f-49b7-a411-5883de50ba3a"
      },
      "execution_count": null,
      "outputs": [
        {
          "output_type": "stream",
          "name": "stdout",
          "text": [
            "newmm after custom dict\n",
            "['ลาบูบู้', 'มาสคอต', 'สุวรรณภูมิ', 'หมีเนย', 'หมูเด้ง']\n"
          ]
        }
      ]
    }
  ]
}